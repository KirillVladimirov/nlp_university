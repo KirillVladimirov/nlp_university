{
 "cells": [
  {
   "cell_type": "code",
   "execution_count": 1,
   "metadata": {},
   "outputs": [],
   "source": [
    "import warnings\n",
    "warnings.filterwarnings(\"ignore\")"
   ]
  },
  {
   "cell_type": "code",
   "execution_count": 2,
   "metadata": {},
   "outputs": [],
   "source": [
    "import numpy as np\n",
    "import pandas as pd\n",
    "\n",
    "import copy\n",
    "import traceback\n",
    "import datetime\n",
    "import joblib\n",
    "import re\n",
    "import os\n",
    "import random\n",
    "import string\n",
    "import time\n",
    "\n",
    "from sklearn.pipeline import Pipeline\n",
    "from sklearn.model_selection import train_test_split\n",
    "from sklearn.feature_extraction.text import CountVectorizer, TfidfTransformer\n",
    "from sklearn.model_selection import GridSearchCV\n",
    "from sklearn.naive_bayes import MultinomialNB\n",
    "from sklearn.metrics import classification_report, confusion_matrix\n",
    "from sklearn.metrics import accuracy_score, precision_score, recall_score, f1_score, roc_auc_score\n",
    "import matplotlib.pyplot as plt\n",
    "%matplotlib inline\n",
    "\n",
    "import torch\n",
    "from torch import nn\n",
    "from torch.nn import functional as F\n",
    "from torch.utils.data import Dataset, DataLoader\n",
    "import torch.optim as optim\n",
    "from torchtext import data\n",
    "from torchtext import datasets\n",
    "from torchtext import vocab\n",
    "from torchtext.vocab import Vectors, GloVe\n",
    "\n",
    "from tqdm.notebook import tqdm\n",
    "\n",
    "import nltk\n",
    "from nltk.corpus import stopwords\n",
    "from nltk.tokenize import sent_tokenize\n",
    "from nltk.tokenize import word_tokenize\n",
    "import pymorphy2\n",
    "from sklearn.base import BaseEstimator, TransformerMixin"
   ]
  },
  {
   "cell_type": "code",
   "execution_count": 103,
   "metadata": {},
   "outputs": [],
   "source": [
    "class ConfigExperiment:\n",
    "    seed = 42\n",
    "    positive_file = \"../data/positive.csv\"\n",
    "    negative_file = \"../data/negative.csv\"\n",
    "    test_size = 0.3\n",
    "    device = \"cuda\" if torch.cuda.is_available() else \"cpu\"\n",
    "    embed_dim = 300\n",
    "    max_vocab_size = 50_000\n",
    "    batch_size = 64\n",
    "    num_epochs = 30\n",
    "    lr = 1e-2\n",
    "    num_workers = 0\n",
    "    patience = 3\n",
    "    early_stopping_delta = 1e-4\n",
    "    save_dirname = \"models\"\n",
    "    \n",
    "config = ConfigExperiment()"
   ]
  },
  {
   "cell_type": "code",
   "execution_count": 104,
   "metadata": {},
   "outputs": [],
   "source": [
    "def init_random_seed(seed):\n",
    "    torch.manual_seed(seed)\n",
    "    torch.cuda.manual_seed(seed)\n",
    "    np.random.seed(seed)\n",
    "    random.seed(seed)\n",
    "    torch.backends.cudnn.benchmark = False\n",
    "    torch.backends.cudnn.deterministic=True\n",
    "    \n",
    "init_random_seed(config.seed)"
   ]
  },
  {
   "cell_type": "code",
   "execution_count": 151,
   "metadata": {},
   "outputs": [
    {
     "data": {
      "text/plain": [
       "((226834, 12), (111923, 12), (114911, 12))"
      ]
     },
     "execution_count": 151,
     "metadata": {},
     "output_type": "execute_result"
    }
   ],
   "source": [
    "column_names = [\"id\", \"tdate\", \"tmane\", \"ttext\", \"ttype\", \"trep\", \"trtw\", \"tfav\", \"tstcount\", \"tfoll\", \"tfrien\", \"listcount\"]\n",
    "positive_df = pd.read_csv(config.positive_file, sep=\";\", names=column_names, index_col=False)\n",
    "negative_df = pd.read_csv(config.negative_file, sep=\";\", names=column_names, index_col=False)\n",
    "\n",
    "df = pd.concat([negative_df, positive_df])\n",
    "# df.drop([\"ttype\", \"tfav\"], axis=1, inplace=True)\n",
    "# df.columns = [\"id\", \"tdate\", \"tmane\", \"text\", \"trep\", \"target\", \"tstcount\", \"tfoll\", \"tfrien\", \"listcount\"]\n",
    "\n",
    "df.shape, negative_df.shape, positive_df.shape"
   ]
  },
  {
   "cell_type": "code",
   "execution_count": 155,
   "metadata": {},
   "outputs": [],
   "source": [
    "df = pd.read_pickle(\"full_dataset.pkl\")"
   ]
  },
  {
   "cell_type": "code",
   "execution_count": 156,
   "metadata": {},
   "outputs": [
    {
     "data": {
      "text/html": [
       "<div>\n",
       "<style scoped>\n",
       "    .dataframe tbody tr th:only-of-type {\n",
       "        vertical-align: middle;\n",
       "    }\n",
       "\n",
       "    .dataframe tbody tr th {\n",
       "        vertical-align: top;\n",
       "    }\n",
       "\n",
       "    .dataframe thead th {\n",
       "        text-align: right;\n",
       "    }\n",
       "</style>\n",
       "<table border=\"1\" class=\"dataframe\">\n",
       "  <thead>\n",
       "    <tr style=\"text-align: right;\">\n",
       "      <th></th>\n",
       "      <th>id</th>\n",
       "      <th>tdate</th>\n",
       "      <th>tname</th>\n",
       "      <th>ttext</th>\n",
       "      <th>ttype</th>\n",
       "      <th>trep</th>\n",
       "      <th>trtw</th>\n",
       "      <th>tfav</th>\n",
       "      <th>tstcount</th>\n",
       "      <th>tfoll</th>\n",
       "      <th>tfrien</th>\n",
       "      <th>listcount</th>\n",
       "    </tr>\n",
       "  </thead>\n",
       "  <tbody>\n",
       "    <tr>\n",
       "      <th>0</th>\n",
       "      <td>408906691322073088</td>\n",
       "      <td>1386325926</td>\n",
       "      <td>AndreyAF</td>\n",
       "      <td>Грустный суворовец с пятым айфоном.</td>\n",
       "      <td>2</td>\n",
       "      <td>0</td>\n",
       "      <td>0</td>\n",
       "      <td>0</td>\n",
       "      <td>25914</td>\n",
       "      <td>175</td>\n",
       "      <td>113</td>\n",
       "      <td>23</td>\n",
       "    </tr>\n",
       "    <tr>\n",
       "      <th>1</th>\n",
       "      <td>408906691338854400</td>\n",
       "      <td>1386325927</td>\n",
       "      <td>kydijamipam</td>\n",
       "      <td>RT @juvivenofara: ненавижу 10рублевый металл.....</td>\n",
       "      <td>2</td>\n",
       "      <td>0</td>\n",
       "      <td>2</td>\n",
       "      <td>0</td>\n",
       "      <td>372</td>\n",
       "      <td>67</td>\n",
       "      <td>63</td>\n",
       "      <td>0</td>\n",
       "    </tr>\n",
       "    <tr>\n",
       "      <th>2</th>\n",
       "      <td>408906691347226624</td>\n",
       "      <td>1386325927</td>\n",
       "      <td>zgamaset</td>\n",
       "      <td>RT @tourskidki_ru: Тур во Вьетнам (Нячанг) на ...</td>\n",
       "      <td>2</td>\n",
       "      <td>0</td>\n",
       "      <td>3</td>\n",
       "      <td>0</td>\n",
       "      <td>2738</td>\n",
       "      <td>2779</td>\n",
       "      <td>2979</td>\n",
       "      <td>3</td>\n",
       "    </tr>\n",
       "    <tr>\n",
       "      <th>3</th>\n",
       "      <td>408906691414331392</td>\n",
       "      <td>1386325927</td>\n",
       "      <td>my_wedding_ua</td>\n",
       "      <td>рппр</td>\n",
       "      <td>2</td>\n",
       "      <td>0</td>\n",
       "      <td>0</td>\n",
       "      <td>0</td>\n",
       "      <td>1</td>\n",
       "      <td>0</td>\n",
       "      <td>2</td>\n",
       "      <td>0</td>\n",
       "    </tr>\n",
       "    <tr>\n",
       "      <th>4</th>\n",
       "      <td>408906691430739968</td>\n",
       "      <td>1386325927</td>\n",
       "      <td>Ronisan12</td>\n",
       "      <td>Добралась до ночлега, не хоромы, но переночева...</td>\n",
       "      <td>2</td>\n",
       "      <td>0</td>\n",
       "      <td>0</td>\n",
       "      <td>0</td>\n",
       "      <td>1347</td>\n",
       "      <td>12</td>\n",
       "      <td>6</td>\n",
       "      <td>0</td>\n",
       "    </tr>\n",
       "  </tbody>\n",
       "</table>\n",
       "</div>"
      ],
      "text/plain": [
       "                   id       tdate          tname  \\\n",
       "0  408906691322073088  1386325926       AndreyAF   \n",
       "1  408906691338854400  1386325927    kydijamipam   \n",
       "2  408906691347226624  1386325927       zgamaset   \n",
       "3  408906691414331392  1386325927  my_wedding_ua   \n",
       "4  408906691430739968  1386325927      Ronisan12   \n",
       "\n",
       "                                               ttext  ttype  trep  trtw  tfav  \\\n",
       "0                Грустный суворовец с пятым айфоном.      2     0     0     0   \n",
       "1  RT @juvivenofara: ненавижу 10рублевый металл.....      2     0     2     0   \n",
       "2  RT @tourskidki_ru: Тур во Вьетнам (Нячанг) на ...      2     0     3     0   \n",
       "3                                               рппр      2     0     0     0   \n",
       "4  Добралась до ночлега, не хоромы, но переночева...      2     0     0     0   \n",
       "\n",
       "   tstcount  tfoll  tfrien  listcount  \n",
       "0     25914    175     113         23  \n",
       "1       372     67      63          0  \n",
       "2      2738   2779    2979          3  \n",
       "3         1      0       2          0  \n",
       "4      1347     12       6          0  "
      ]
     },
     "execution_count": 156,
     "metadata": {},
     "output_type": "execute_result"
    }
   ],
   "source": [
    "df.head()"
   ]
  },
  {
   "cell_type": "code",
   "execution_count": 160,
   "metadata": {},
   "outputs": [
    {
     "data": {
      "text/plain": [
       "(17639674, 12)"
      ]
     },
     "execution_count": 160,
     "metadata": {},
     "output_type": "execute_result"
    }
   ],
   "source": [
    "df.shape"
   ]
  },
  {
   "cell_type": "code",
   "execution_count": 161,
   "metadata": {},
   "outputs": [
    {
     "data": {
      "text/plain": [
       "0        14380750\n",
       "1         1321567\n",
       "2          339673\n",
       "3          188658\n",
       "4          128049\n",
       "           ...   \n",
       "5469            1\n",
       "5472            1\n",
       "5478            1\n",
       "5483            1\n",
       "20063           1\n",
       "Name: trtw, Length: 8041, dtype: int64"
      ]
     },
     "execution_count": 161,
     "metadata": {},
     "output_type": "execute_result"
    }
   ],
   "source": [
    "df.trtw.value_counts()"
   ]
  },
  {
   "cell_type": "code",
   "execution_count": 162,
   "metadata": {},
   "outputs": [
    {
     "data": {
      "image/png": "[encoded data removed]",
      "text/plain": [
       "<Figure size 432x288 with 1 Axes>"
      ]
     },
     "metadata": {
      "needs_background": "light"
     },
     "output_type": "display_data"
    }
   ],
   "source": [
    "fig, ax = plt.subplots()\n",
    "df.trtw.hist(ax=ax, bins=100, bottom=0.1)\n",
    "ax.set_yscale('log')"
   ]
  },
  {
   "cell_type": "code",
   "execution_count": 166,
   "metadata": {},
   "outputs": [
    {
     "data": {
      "text/plain": [
       "(0.0, 50000.0)"
      ]
     },
     "execution_count": 166,
     "metadata": {},
     "output_type": "execute_result"
    },
    {
     "data": {
      "image/png": "[encoded data removed]",
      "text/plain": [
       "<Figure size 432x288 with 1 Axes>"
      ]
     },
     "metadata": {
      "needs_background": "light"
     },
     "output_type": "display_data"
    }
   ],
   "source": [
    "fig, ax = plt.subplots()\n",
    "df.trtw.hist(ax=ax, bins=100, bottom=0.1)\n",
    "ax.set_yscale('log')\n",
    "plt.xlim((0, 50000))"
   ]
  },
  {
   "cell_type": "code",
   "execution_count": 41,
   "metadata": {},
   "outputs": [],
   "source": [
    "# df[\"text\"].tolist()[:40]"
   ]
  },
  {
   "cell_type": "code",
   "execution_count": 42,
   "metadata": {},
   "outputs": [],
   "source": [
    "def preprocess_text(text):\n",
    "    text = text.lower().replace(\"ё\", \"е\")\n",
    "    # Remove digits\n",
    "    text = re.sub(\"\\d+:\\d+\", \" \", text)\n",
    "    text = re.sub(\" \\d+\", \" \", text)\n",
    "    # Removing ';quot;'\n",
    "    text = re.sub(';quot;', '', text) \n",
    "    # Removing ';quot;'\n",
    "    text = re.sub('&amp', '', text) \n",
    "    # Remove HTML special entities (e.g. &amp;)\n",
    "    text = re.sub(r'\\&\\w*;', ' ', text)\n",
    "    #Convert @username to AT_USER\n",
    "    text = re.sub('@[^\\s]+','AT_USER', text)\n",
    "    #Removing @mentions\n",
    "    text = re.sub('@[A-Za-z0–9]+', '', text)\n",
    "    # Remove whitespace (including new line characters)\n",
    "    text = re.sub(r'\\s\\s+', ' ', text)\n",
    "    # Removing '#' hash tag\n",
    "    text = re.sub('#', '', text) \n",
    "    # Removing RT\n",
    "    text = re.sub('rt[\\s]+', '', text) \n",
    "    # Removing hyperlink\n",
    "    text = re.sub('https?:\\/\\/\\S+', '', text)\n",
    "    # Separate words and punctuation\n",
    "    text = re.findall(r\"[\\w']+|[.,!?;:()]\", text)\n",
    "    text = \" \".join(text)\n",
    "    return text"
   ]
  },
  {
   "cell_type": "code",
   "execution_count": 43,
   "metadata": {},
   "outputs": [],
   "source": [
    "# Clean the tweets\n",
    "df['text'] = df['text'].apply(preprocess_text)"
   ]
  },
  {
   "cell_type": "code",
   "execution_count": 44,
   "metadata": {},
   "outputs": [],
   "source": [
    "# df[\"text\"].tolist()[:40]"
   ]
  },
  {
   "cell_type": "code",
   "execution_count": 45,
   "metadata": {},
   "outputs": [],
   "source": [
    "cache = {}\n",
    "morph = pymorphy2.MorphAnalyzer()\n",
    "\n",
    "# Фильтруем по части речи и возвращаем только начальную форму.\n",
    "def lemmatize(text):\n",
    "    words = []\n",
    "    for token in text.split():\n",
    "        # Если токен уже был закеширован, быстро возьмем результат из кэша.\n",
    "        if token in cache.keys():\n",
    "            words.append(cache[token])\n",
    "        # Слово еще не встретилось, будем проводить медленный морфологический анализ.\n",
    "        else:\n",
    "            result = morph.parse(token)   \n",
    "            word = result[0].normal_form\n",
    "            # Отправляем слово в результат, ...\n",
    "            words.append(word)\n",
    "            # ... и кешируем результат его разбора.\n",
    "            cache[token] = word   \n",
    "    return ' '.join(words)"
   ]
  },
  {
   "cell_type": "code",
   "execution_count": 46,
   "metadata": {},
   "outputs": [
    {
     "name": "stdout",
     "output_type": "stream",
     "text": [
      "CPU times: user 40 s, sys: 23.9 ms, total: 40 s\n",
      "Wall time: 40 s\n"
     ]
    }
   ],
   "source": [
    "%%time\n",
    "\n",
    "df['text'] = df['text'].apply(lemmatize)"
   ]
  },
  {
   "cell_type": "code",
   "execution_count": 47,
   "metadata": {},
   "outputs": [
    {
     "data": {
      "text/html": [
       "<div>\n",
       "<style scoped>\n",
       "    .dataframe tbody tr th:only-of-type {\n",
       "        vertical-align: middle;\n",
       "    }\n",
       "\n",
       "    .dataframe tbody tr th {\n",
       "        vertical-align: top;\n",
       "    }\n",
       "\n",
       "    .dataframe thead th {\n",
       "        text-align: right;\n",
       "    }\n",
       "</style>\n",
       "<table border=\"1\" class=\"dataframe\">\n",
       "  <thead>\n",
       "    <tr style=\"text-align: right;\">\n",
       "      <th></th>\n",
       "      <th>id</th>\n",
       "      <th>tdate</th>\n",
       "      <th>tmane</th>\n",
       "      <th>text</th>\n",
       "      <th>trep</th>\n",
       "      <th>target</th>\n",
       "      <th>tstcount</th>\n",
       "      <th>tfoll</th>\n",
       "      <th>tfrien</th>\n",
       "      <th>listcount</th>\n",
       "    </tr>\n",
       "  </thead>\n",
       "  <tbody>\n",
       "    <tr>\n",
       "      <th>0</th>\n",
       "      <td>408906762813579264</td>\n",
       "      <td>1386325944</td>\n",
       "      <td>dugarchikbellko</td>\n",
       "      <td>на работа быть полный пиддес : и так каждый за...</td>\n",
       "      <td>0</td>\n",
       "      <td>0</td>\n",
       "      <td>8064</td>\n",
       "      <td>111</td>\n",
       "      <td>94</td>\n",
       "      <td>2</td>\n",
       "    </tr>\n",
       "    <tr>\n",
       "      <th>1</th>\n",
       "      <td>408906818262687744</td>\n",
       "      <td>1386325957</td>\n",
       "      <td>nugemycejela</td>\n",
       "      <td>коллега сидеть рубиться в urban terror , а я и...</td>\n",
       "      <td>0</td>\n",
       "      <td>0</td>\n",
       "      <td>26</td>\n",
       "      <td>42</td>\n",
       "      <td>39</td>\n",
       "      <td>0</td>\n",
       "    </tr>\n",
       "    <tr>\n",
       "      <th>2</th>\n",
       "      <td>408906858515398656</td>\n",
       "      <td>1386325966</td>\n",
       "      <td>4post21</td>\n",
       "      <td>at_user как говорят обещаной три год ждать . ....</td>\n",
       "      <td>0</td>\n",
       "      <td>0</td>\n",
       "      <td>718</td>\n",
       "      <td>49</td>\n",
       "      <td>249</td>\n",
       "      <td>0</td>\n",
       "    </tr>\n",
       "    <tr>\n",
       "      <th>3</th>\n",
       "      <td>408906914437685248</td>\n",
       "      <td>1386325980</td>\n",
       "      <td>Poliwake</td>\n",
       "      <td>желать хороший полёт и удачный посадка , я быт...</td>\n",
       "      <td>0</td>\n",
       "      <td>0</td>\n",
       "      <td>10628</td>\n",
       "      <td>207</td>\n",
       "      <td>200</td>\n",
       "      <td>0</td>\n",
       "    </tr>\n",
       "    <tr>\n",
       "      <th>4</th>\n",
       "      <td>408906914723295232</td>\n",
       "      <td>1386325980</td>\n",
       "      <td>capyvixowe</td>\n",
       "      <td>обновить за какой то леший surf , теперь не ра...</td>\n",
       "      <td>0</td>\n",
       "      <td>0</td>\n",
       "      <td>35</td>\n",
       "      <td>17</td>\n",
       "      <td>34</td>\n",
       "      <td>0</td>\n",
       "    </tr>\n",
       "  </tbody>\n",
       "</table>\n",
       "</div>"
      ],
      "text/plain": [
       "                   id       tdate            tmane  \\\n",
       "0  408906762813579264  1386325944  dugarchikbellko   \n",
       "1  408906818262687744  1386325957     nugemycejela   \n",
       "2  408906858515398656  1386325966          4post21   \n",
       "3  408906914437685248  1386325980         Poliwake   \n",
       "4  408906914723295232  1386325980       capyvixowe   \n",
       "\n",
       "                                                text  trep  target  tstcount  \\\n",
       "0  на работа быть полный пиддес : и так каждый за...     0       0      8064   \n",
       "1  коллега сидеть рубиться в urban terror , а я и...     0       0        26   \n",
       "2  at_user как говорят обещаной три год ждать . ....     0       0       718   \n",
       "3  желать хороший полёт и удачный посадка , я быт...     0       0     10628   \n",
       "4  обновить за какой то леший surf , теперь не ра...     0       0        35   \n",
       "\n",
       "   tfoll  tfrien  listcount  \n",
       "0    111      94          2  \n",
       "1     42      39          0  \n",
       "2     49     249          0  \n",
       "3    207     200          0  \n",
       "4     17      34          0  "
      ]
     },
     "execution_count": 47,
     "metadata": {},
     "output_type": "execute_result"
    }
   ],
   "source": [
    "df.head()"
   ]
  },
  {
   "cell_type": "code",
   "execution_count": 48,
   "metadata": {},
   "outputs": [],
   "source": [
    "df.drop([\"id\", \"tmane\", \"trep\"], axis=1, inplace=True)"
   ]
  },
  {
   "cell_type": "code",
   "execution_count": 105,
   "metadata": {},
   "outputs": [
    {
     "data": {
      "text/html": [
       "<div>\n",
       "<style scoped>\n",
       "    .dataframe tbody tr th:only-of-type {\n",
       "        vertical-align: middle;\n",
       "    }\n",
       "\n",
       "    .dataframe tbody tr th {\n",
       "        vertical-align: top;\n",
       "    }\n",
       "\n",
       "    .dataframe thead th {\n",
       "        text-align: right;\n",
       "    }\n",
       "</style>\n",
       "<table border=\"1\" class=\"dataframe\">\n",
       "  <thead>\n",
       "    <tr style=\"text-align: right;\">\n",
       "      <th></th>\n",
       "      <th>tdate</th>\n",
       "      <th>text</th>\n",
       "      <th>target</th>\n",
       "      <th>tstcount</th>\n",
       "      <th>tfoll</th>\n",
       "      <th>tfrien</th>\n",
       "      <th>listcount</th>\n",
       "    </tr>\n",
       "  </thead>\n",
       "  <tbody>\n",
       "    <tr>\n",
       "      <th>0</th>\n",
       "      <td>1386325944</td>\n",
       "      <td>на работа быть полный пиддес : и так каждый за...</td>\n",
       "      <td>0</td>\n",
       "      <td>8064</td>\n",
       "      <td>111</td>\n",
       "      <td>94</td>\n",
       "      <td>2</td>\n",
       "    </tr>\n",
       "    <tr>\n",
       "      <th>1</th>\n",
       "      <td>1386325957</td>\n",
       "      <td>коллега сидеть рубиться в urban terror , а я и...</td>\n",
       "      <td>0</td>\n",
       "      <td>26</td>\n",
       "      <td>42</td>\n",
       "      <td>39</td>\n",
       "      <td>0</td>\n",
       "    </tr>\n",
       "    <tr>\n",
       "      <th>2</th>\n",
       "      <td>1386325966</td>\n",
       "      <td>at_user как говорят обещаной три год ждать . ....</td>\n",
       "      <td>0</td>\n",
       "      <td>718</td>\n",
       "      <td>49</td>\n",
       "      <td>249</td>\n",
       "      <td>0</td>\n",
       "    </tr>\n",
       "    <tr>\n",
       "      <th>3</th>\n",
       "      <td>1386325980</td>\n",
       "      <td>желать хороший полёт и удачный посадка , я быт...</td>\n",
       "      <td>0</td>\n",
       "      <td>10628</td>\n",
       "      <td>207</td>\n",
       "      <td>200</td>\n",
       "      <td>0</td>\n",
       "    </tr>\n",
       "    <tr>\n",
       "      <th>4</th>\n",
       "      <td>1386325980</td>\n",
       "      <td>обновить за какой то леший surf , теперь не ра...</td>\n",
       "      <td>0</td>\n",
       "      <td>35</td>\n",
       "      <td>17</td>\n",
       "      <td>34</td>\n",
       "      <td>0</td>\n",
       "    </tr>\n",
       "  </tbody>\n",
       "</table>\n",
       "</div>"
      ],
      "text/plain": [
       "        tdate                                               text  target  \\\n",
       "0  1386325944  на работа быть полный пиддес : и так каждый за...       0   \n",
       "1  1386325957  коллега сидеть рубиться в urban terror , а я и...       0   \n",
       "2  1386325966  at_user как говорят обещаной три год ждать . ....       0   \n",
       "3  1386325980  желать хороший полёт и удачный посадка , я быт...       0   \n",
       "4  1386325980  обновить за какой то леший surf , теперь не ра...       0   \n",
       "\n",
       "   tstcount  tfoll  tfrien  listcount  \n",
       "0      8064    111      94          2  \n",
       "1        26     42      39          0  \n",
       "2       718     49     249          0  \n",
       "3     10628    207     200          0  \n",
       "4        35     17      34          0  "
      ]
     },
     "execution_count": 105,
     "metadata": {},
     "output_type": "execute_result"
    }
   ],
   "source": [
    "df.head()"
   ]
  },
  {
   "cell_type": "code",
   "execution_count": 108,
   "metadata": {},
   "outputs": [],
   "source": [
    "def time_enginiring(row):\n",
    "    t = pd.to_datetime(row[\"tdate\"], unit='s')\n",
    "    row[\"year\"] = t.year\n",
    "    row[\"month\"] =  t.month\n",
    "    row[\"day\"] = t.day\n",
    "    row[\"dayofweek\"] = t.dayofweek\n",
    "    row[\"week\"] = t.week\n",
    "    row[\"hour\"] = t.hour\n",
    "    return row"
   ]
  },
  {
   "cell_type": "code",
   "execution_count": 109,
   "metadata": {},
   "outputs": [],
   "source": [
    "df = df.apply(time_enginiring, axis=1)"
   ]
  },
  {
   "cell_type": "code",
   "execution_count": 110,
   "metadata": {},
   "outputs": [],
   "source": [
    "df.drop([\"tdate\"], axis=1, inplace=True)"
   ]
  },
  {
   "cell_type": "code",
   "execution_count": 111,
   "metadata": {},
   "outputs": [
    {
     "data": {
      "text/html": [
       "<div>\n",
       "<style scoped>\n",
       "    .dataframe tbody tr th:only-of-type {\n",
       "        vertical-align: middle;\n",
       "    }\n",
       "\n",
       "    .dataframe tbody tr th {\n",
       "        vertical-align: top;\n",
       "    }\n",
       "\n",
       "    .dataframe thead th {\n",
       "        text-align: right;\n",
       "    }\n",
       "</style>\n",
       "<table border=\"1\" class=\"dataframe\">\n",
       "  <thead>\n",
       "    <tr style=\"text-align: right;\">\n",
       "      <th></th>\n",
       "      <th>text</th>\n",
       "      <th>target</th>\n",
       "      <th>tstcount</th>\n",
       "      <th>tfoll</th>\n",
       "      <th>tfrien</th>\n",
       "      <th>listcount</th>\n",
       "      <th>year</th>\n",
       "      <th>month</th>\n",
       "      <th>day</th>\n",
       "      <th>dayofweek</th>\n",
       "      <th>week</th>\n",
       "      <th>hour</th>\n",
       "    </tr>\n",
       "  </thead>\n",
       "  <tbody>\n",
       "    <tr>\n",
       "      <th>0</th>\n",
       "      <td>на работа быть полный пиддес : и так каждый за...</td>\n",
       "      <td>0</td>\n",
       "      <td>8064</td>\n",
       "      <td>111</td>\n",
       "      <td>94</td>\n",
       "      <td>2</td>\n",
       "      <td>2013</td>\n",
       "      <td>12</td>\n",
       "      <td>6</td>\n",
       "      <td>4</td>\n",
       "      <td>49</td>\n",
       "      <td>10</td>\n",
       "    </tr>\n",
       "    <tr>\n",
       "      <th>1</th>\n",
       "      <td>коллега сидеть рубиться в urban terror , а я и...</td>\n",
       "      <td>0</td>\n",
       "      <td>26</td>\n",
       "      <td>42</td>\n",
       "      <td>39</td>\n",
       "      <td>0</td>\n",
       "      <td>2013</td>\n",
       "      <td>12</td>\n",
       "      <td>6</td>\n",
       "      <td>4</td>\n",
       "      <td>49</td>\n",
       "      <td>10</td>\n",
       "    </tr>\n",
       "    <tr>\n",
       "      <th>2</th>\n",
       "      <td>at_user как говорят обещаной три год ждать . ....</td>\n",
       "      <td>0</td>\n",
       "      <td>718</td>\n",
       "      <td>49</td>\n",
       "      <td>249</td>\n",
       "      <td>0</td>\n",
       "      <td>2013</td>\n",
       "      <td>12</td>\n",
       "      <td>6</td>\n",
       "      <td>4</td>\n",
       "      <td>49</td>\n",
       "      <td>10</td>\n",
       "    </tr>\n",
       "    <tr>\n",
       "      <th>3</th>\n",
       "      <td>желать хороший полёт и удачный посадка , я быт...</td>\n",
       "      <td>0</td>\n",
       "      <td>10628</td>\n",
       "      <td>207</td>\n",
       "      <td>200</td>\n",
       "      <td>0</td>\n",
       "      <td>2013</td>\n",
       "      <td>12</td>\n",
       "      <td>6</td>\n",
       "      <td>4</td>\n",
       "      <td>49</td>\n",
       "      <td>10</td>\n",
       "    </tr>\n",
       "    <tr>\n",
       "      <th>4</th>\n",
       "      <td>обновить за какой то леший surf , теперь не ра...</td>\n",
       "      <td>0</td>\n",
       "      <td>35</td>\n",
       "      <td>17</td>\n",
       "      <td>34</td>\n",
       "      <td>0</td>\n",
       "      <td>2013</td>\n",
       "      <td>12</td>\n",
       "      <td>6</td>\n",
       "      <td>4</td>\n",
       "      <td>49</td>\n",
       "      <td>10</td>\n",
       "    </tr>\n",
       "  </tbody>\n",
       "</table>\n",
       "</div>"
      ],
      "text/plain": [
       "                                                text  target  tstcount  tfoll  \\\n",
       "0  на работа быть полный пиддес : и так каждый за...       0      8064    111   \n",
       "1  коллега сидеть рубиться в urban terror , а я и...       0        26     42   \n",
       "2  at_user как говорят обещаной три год ждать . ....       0       718     49   \n",
       "3  желать хороший полёт и удачный посадка , я быт...       0     10628    207   \n",
       "4  обновить за какой то леший surf , теперь не ра...       0        35     17   \n",
       "\n",
       "   tfrien  listcount  year  month  day  dayofweek  week  hour  \n",
       "0      94          2  2013     12    6          4    49    10  \n",
       "1      39          0  2013     12    6          4    49    10  \n",
       "2     249          0  2013     12    6          4    49    10  \n",
       "3     200          0  2013     12    6          4    49    10  \n",
       "4      34          0  2013     12    6          4    49    10  "
      ]
     },
     "execution_count": 111,
     "metadata": {},
     "output_type": "execute_result"
    }
   ],
   "source": [
    "df.head()"
   ]
  },
  {
   "cell_type": "code",
   "execution_count": 112,
   "metadata": {},
   "outputs": [],
   "source": [
    "# df.to_csv(\"../data/processed_data_regression.csv\", index=False)"
   ]
  },
  {
   "cell_type": "code",
   "execution_count": 125,
   "metadata": {},
   "outputs": [],
   "source": [
    "df = pd.read_csv(\"../data/processed_data_regression.csv\", index_col=False)"
   ]
  },
  {
   "cell_type": "code",
   "execution_count": null,
   "metadata": {},
   "outputs": [],
   "source": []
  },
  {
   "cell_type": "code",
   "execution_count": 126,
   "metadata": {},
   "outputs": [],
   "source": [
    "from sklearn import preprocessing"
   ]
  },
  {
   "cell_type": "code",
   "execution_count": 127,
   "metadata": {},
   "outputs": [],
   "source": [
    "x = df[[\"tstcount\", \"tfoll\", \"tfrien\", \"listcount\", \"year\", \"month\", \"day\", \"dayofweek\", \"week\", \"week\", \"hour\"]].values"
   ]
  },
  {
   "cell_type": "code",
   "execution_count": 128,
   "metadata": {},
   "outputs": [],
   "source": [
    "min_max_scaler = preprocessing.MinMaxScaler()"
   ]
  },
  {
   "cell_type": "code",
   "execution_count": 129,
   "metadata": {},
   "outputs": [],
   "source": [
    "x_scaled = min_max_scaler.fit_transform(x)"
   ]
  },
  {
   "cell_type": "code",
   "execution_count": 132,
   "metadata": {},
   "outputs": [],
   "source": [
    "d = pd.DataFrame(x_scaled, columns=[\"tstcount\", \"tfoll\", \"tfrien\", \"listcount\", \"year\", \"month\", \"day\", \"dayofweek\", \"week\", \"week\", \"hour\"])"
   ]
  },
  {
   "cell_type": "code",
   "execution_count": 133,
   "metadata": {},
   "outputs": [
    {
     "data": {
      "text/html": [
       "<div>\n",
       "<style scoped>\n",
       "    .dataframe tbody tr th:only-of-type {\n",
       "        vertical-align: middle;\n",
       "    }\n",
       "\n",
       "    .dataframe tbody tr th {\n",
       "        vertical-align: top;\n",
       "    }\n",
       "\n",
       "    .dataframe thead th {\n",
       "        text-align: right;\n",
       "    }\n",
       "</style>\n",
       "<table border=\"1\" class=\"dataframe\">\n",
       "  <thead>\n",
       "    <tr style=\"text-align: right;\">\n",
       "      <th></th>\n",
       "      <th>tstcount</th>\n",
       "      <th>tfoll</th>\n",
       "      <th>tfrien</th>\n",
       "      <th>listcount</th>\n",
       "      <th>year</th>\n",
       "      <th>month</th>\n",
       "      <th>day</th>\n",
       "      <th>dayofweek</th>\n",
       "      <th>week</th>\n",
       "      <th>week</th>\n",
       "      <th>hour</th>\n",
       "    </tr>\n",
       "  </thead>\n",
       "  <tbody>\n",
       "    <tr>\n",
       "      <th>0</th>\n",
       "      <td>0.007082</td>\n",
       "      <td>0.000070</td>\n",
       "      <td>0.000242</td>\n",
       "      <td>0.000118</td>\n",
       "      <td>0.0</td>\n",
       "      <td>1.0</td>\n",
       "      <td>0.166667</td>\n",
       "      <td>0.666667</td>\n",
       "      <td>0.941176</td>\n",
       "      <td>0.941176</td>\n",
       "      <td>0.434783</td>\n",
       "    </tr>\n",
       "    <tr>\n",
       "      <th>1</th>\n",
       "      <td>0.000023</td>\n",
       "      <td>0.000027</td>\n",
       "      <td>0.000100</td>\n",
       "      <td>0.000000</td>\n",
       "      <td>0.0</td>\n",
       "      <td>1.0</td>\n",
       "      <td>0.166667</td>\n",
       "      <td>0.666667</td>\n",
       "      <td>0.941176</td>\n",
       "      <td>0.941176</td>\n",
       "      <td>0.434783</td>\n",
       "    </tr>\n",
       "    <tr>\n",
       "      <th>2</th>\n",
       "      <td>0.000631</td>\n",
       "      <td>0.000031</td>\n",
       "      <td>0.000641</td>\n",
       "      <td>0.000000</td>\n",
       "      <td>0.0</td>\n",
       "      <td>1.0</td>\n",
       "      <td>0.166667</td>\n",
       "      <td>0.666667</td>\n",
       "      <td>0.941176</td>\n",
       "      <td>0.941176</td>\n",
       "      <td>0.434783</td>\n",
       "    </tr>\n",
       "    <tr>\n",
       "      <th>3</th>\n",
       "      <td>0.009334</td>\n",
       "      <td>0.000131</td>\n",
       "      <td>0.000515</td>\n",
       "      <td>0.000000</td>\n",
       "      <td>0.0</td>\n",
       "      <td>1.0</td>\n",
       "      <td>0.166667</td>\n",
       "      <td>0.666667</td>\n",
       "      <td>0.941176</td>\n",
       "      <td>0.941176</td>\n",
       "      <td>0.434783</td>\n",
       "    </tr>\n",
       "    <tr>\n",
       "      <th>4</th>\n",
       "      <td>0.000031</td>\n",
       "      <td>0.000011</td>\n",
       "      <td>0.000088</td>\n",
       "      <td>0.000000</td>\n",
       "      <td>0.0</td>\n",
       "      <td>1.0</td>\n",
       "      <td>0.166667</td>\n",
       "      <td>0.666667</td>\n",
       "      <td>0.941176</td>\n",
       "      <td>0.941176</td>\n",
       "      <td>0.434783</td>\n",
       "    </tr>\n",
       "    <tr>\n",
       "      <th>...</th>\n",
       "      <td>...</td>\n",
       "      <td>...</td>\n",
       "      <td>...</td>\n",
       "      <td>...</td>\n",
       "      <td>...</td>\n",
       "      <td>...</td>\n",
       "      <td>...</td>\n",
       "      <td>...</td>\n",
       "      <td>...</td>\n",
       "      <td>...</td>\n",
       "      <td>...</td>\n",
       "    </tr>\n",
       "    <tr>\n",
       "      <th>226829</th>\n",
       "      <td>0.001315</td>\n",
       "      <td>0.000035</td>\n",
       "      <td>0.000088</td>\n",
       "      <td>0.000118</td>\n",
       "      <td>0.0</td>\n",
       "      <td>1.0</td>\n",
       "      <td>0.400000</td>\n",
       "      <td>0.666667</td>\n",
       "      <td>0.960784</td>\n",
       "      <td>0.960784</td>\n",
       "      <td>0.217391</td>\n",
       "    </tr>\n",
       "    <tr>\n",
       "      <th>226830</th>\n",
       "      <td>0.000608</td>\n",
       "      <td>0.000142</td>\n",
       "      <td>0.000541</td>\n",
       "      <td>0.000000</td>\n",
       "      <td>0.0</td>\n",
       "      <td>1.0</td>\n",
       "      <td>0.400000</td>\n",
       "      <td>0.666667</td>\n",
       "      <td>0.960784</td>\n",
       "      <td>0.960784</td>\n",
       "      <td>0.217391</td>\n",
       "    </tr>\n",
       "    <tr>\n",
       "      <th>226831</th>\n",
       "      <td>0.004308</td>\n",
       "      <td>0.000283</td>\n",
       "      <td>0.000497</td>\n",
       "      <td>0.000769</td>\n",
       "      <td>0.0</td>\n",
       "      <td>1.0</td>\n",
       "      <td>0.400000</td>\n",
       "      <td>0.666667</td>\n",
       "      <td>0.960784</td>\n",
       "      <td>0.960784</td>\n",
       "      <td>0.217391</td>\n",
       "    </tr>\n",
       "    <tr>\n",
       "      <th>226832</th>\n",
       "      <td>0.000869</td>\n",
       "      <td>0.000160</td>\n",
       "      <td>0.000646</td>\n",
       "      <td>0.000000</td>\n",
       "      <td>0.0</td>\n",
       "      <td>1.0</td>\n",
       "      <td>0.400000</td>\n",
       "      <td>0.666667</td>\n",
       "      <td>0.960784</td>\n",
       "      <td>0.960784</td>\n",
       "      <td>0.217391</td>\n",
       "    </tr>\n",
       "    <tr>\n",
       "      <th>226833</th>\n",
       "      <td>0.000883</td>\n",
       "      <td>0.000140</td>\n",
       "      <td>0.000458</td>\n",
       "      <td>0.000355</td>\n",
       "      <td>0.0</td>\n",
       "      <td>1.0</td>\n",
       "      <td>0.400000</td>\n",
       "      <td>0.666667</td>\n",
       "      <td>0.960784</td>\n",
       "      <td>0.960784</td>\n",
       "      <td>0.217391</td>\n",
       "    </tr>\n",
       "  </tbody>\n",
       "</table>\n",
       "<p>226834 rows × 11 columns</p>\n",
       "</div>"
      ],
      "text/plain": [
       "        tstcount     tfoll    tfrien  listcount  year  month       day  \\\n",
       "0       0.007082  0.000070  0.000242   0.000118   0.0    1.0  0.166667   \n",
       "1       0.000023  0.000027  0.000100   0.000000   0.0    1.0  0.166667   \n",
       "2       0.000631  0.000031  0.000641   0.000000   0.0    1.0  0.166667   \n",
       "3       0.009334  0.000131  0.000515   0.000000   0.0    1.0  0.166667   \n",
       "4       0.000031  0.000011  0.000088   0.000000   0.0    1.0  0.166667   \n",
       "...          ...       ...       ...        ...   ...    ...       ...   \n",
       "226829  0.001315  0.000035  0.000088   0.000118   0.0    1.0  0.400000   \n",
       "226830  0.000608  0.000142  0.000541   0.000000   0.0    1.0  0.400000   \n",
       "226831  0.004308  0.000283  0.000497   0.000769   0.0    1.0  0.400000   \n",
       "226832  0.000869  0.000160  0.000646   0.000000   0.0    1.0  0.400000   \n",
       "226833  0.000883  0.000140  0.000458   0.000355   0.0    1.0  0.400000   \n",
       "\n",
       "        dayofweek      week      week      hour  \n",
       "0        0.666667  0.941176  0.941176  0.434783  \n",
       "1        0.666667  0.941176  0.941176  0.434783  \n",
       "2        0.666667  0.941176  0.941176  0.434783  \n",
       "3        0.666667  0.941176  0.941176  0.434783  \n",
       "4        0.666667  0.941176  0.941176  0.434783  \n",
       "...           ...       ...       ...       ...  \n",
       "226829   0.666667  0.960784  0.960784  0.217391  \n",
       "226830   0.666667  0.960784  0.960784  0.217391  \n",
       "226831   0.666667  0.960784  0.960784  0.217391  \n",
       "226832   0.666667  0.960784  0.960784  0.217391  \n",
       "226833   0.666667  0.960784  0.960784  0.217391  \n",
       "\n",
       "[226834 rows x 11 columns]"
      ]
     },
     "execution_count": 133,
     "metadata": {},
     "output_type": "execute_result"
    }
   ],
   "source": [
    "d"
   ]
  },
  {
   "cell_type": "code",
   "execution_count": 134,
   "metadata": {},
   "outputs": [],
   "source": [
    "df.drop([\"tstcount\", \"tfoll\", \"tfrien\", \"listcount\", \"year\", \"month\", \"day\", \"dayofweek\", \"week\", \"week\", \"hour\"], axis=1, inplace=True)"
   ]
  },
  {
   "cell_type": "code",
   "execution_count": 135,
   "metadata": {},
   "outputs": [
    {
     "data": {
      "text/html": [
       "<div>\n",
       "<style scoped>\n",
       "    .dataframe tbody tr th:only-of-type {\n",
       "        vertical-align: middle;\n",
       "    }\n",
       "\n",
       "    .dataframe tbody tr th {\n",
       "        vertical-align: top;\n",
       "    }\n",
       "\n",
       "    .dataframe thead th {\n",
       "        text-align: right;\n",
       "    }\n",
       "</style>\n",
       "<table border=\"1\" class=\"dataframe\">\n",
       "  <thead>\n",
       "    <tr style=\"text-align: right;\">\n",
       "      <th></th>\n",
       "      <th>text</th>\n",
       "      <th>target</th>\n",
       "    </tr>\n",
       "  </thead>\n",
       "  <tbody>\n",
       "    <tr>\n",
       "      <th>0</th>\n",
       "      <td>на работа быть полный пиддес : и так каждый за...</td>\n",
       "      <td>0</td>\n",
       "    </tr>\n",
       "    <tr>\n",
       "      <th>1</th>\n",
       "      <td>коллега сидеть рубиться в urban terror , а я и...</td>\n",
       "      <td>0</td>\n",
       "    </tr>\n",
       "    <tr>\n",
       "      <th>2</th>\n",
       "      <td>at_user как говорят обещаной три год ждать . ....</td>\n",
       "      <td>0</td>\n",
       "    </tr>\n",
       "    <tr>\n",
       "      <th>3</th>\n",
       "      <td>желать хороший полёт и удачный посадка , я быт...</td>\n",
       "      <td>0</td>\n",
       "    </tr>\n",
       "    <tr>\n",
       "      <th>4</th>\n",
       "      <td>обновить за какой то леший surf , теперь не ра...</td>\n",
       "      <td>0</td>\n",
       "    </tr>\n",
       "  </tbody>\n",
       "</table>\n",
       "</div>"
      ],
      "text/plain": [
       "                                                text  target\n",
       "0  на работа быть полный пиддес : и так каждый за...       0\n",
       "1  коллега сидеть рубиться в urban terror , а я и...       0\n",
       "2  at_user как говорят обещаной три год ждать . ....       0\n",
       "3  желать хороший полёт и удачный посадка , я быт...       0\n",
       "4  обновить за какой то леший surf , теперь не ра...       0"
      ]
     },
     "execution_count": 135,
     "metadata": {},
     "output_type": "execute_result"
    }
   ],
   "source": [
    "df.head()"
   ]
  },
  {
   "cell_type": "code",
   "execution_count": 137,
   "metadata": {},
   "outputs": [
    {
     "data": {
      "text/plain": [
       "((226834, 2), (226834, 11))"
      ]
     },
     "execution_count": 137,
     "metadata": {},
     "output_type": "execute_result"
    }
   ],
   "source": [
    "df.shape, d.shape"
   ]
  },
  {
   "cell_type": "code",
   "execution_count": 138,
   "metadata": {},
   "outputs": [],
   "source": [
    "dn = pd.concat([df, d], axis=1)"
   ]
  },
  {
   "cell_type": "code",
   "execution_count": 139,
   "metadata": {},
   "outputs": [
    {
     "data": {
      "text/html": [
       "<div>\n",
       "<style scoped>\n",
       "    .dataframe tbody tr th:only-of-type {\n",
       "        vertical-align: middle;\n",
       "    }\n",
       "\n",
       "    .dataframe tbody tr th {\n",
       "        vertical-align: top;\n",
       "    }\n",
       "\n",
       "    .dataframe thead th {\n",
       "        text-align: right;\n",
       "    }\n",
       "</style>\n",
       "<table border=\"1\" class=\"dataframe\">\n",
       "  <thead>\n",
       "    <tr style=\"text-align: right;\">\n",
       "      <th></th>\n",
       "      <th>text</th>\n",
       "      <th>target</th>\n",
       "      <th>tstcount</th>\n",
       "      <th>tfoll</th>\n",
       "      <th>tfrien</th>\n",
       "      <th>listcount</th>\n",
       "      <th>year</th>\n",
       "      <th>month</th>\n",
       "      <th>day</th>\n",
       "      <th>dayofweek</th>\n",
       "      <th>week</th>\n",
       "      <th>week</th>\n",
       "      <th>hour</th>\n",
       "    </tr>\n",
       "  </thead>\n",
       "  <tbody>\n",
       "    <tr>\n",
       "      <th>0</th>\n",
       "      <td>на работа быть полный пиддес : и так каждый за...</td>\n",
       "      <td>0</td>\n",
       "      <td>0.007082</td>\n",
       "      <td>0.000070</td>\n",
       "      <td>0.000242</td>\n",
       "      <td>0.000118</td>\n",
       "      <td>0.0</td>\n",
       "      <td>1.0</td>\n",
       "      <td>0.166667</td>\n",
       "      <td>0.666667</td>\n",
       "      <td>0.941176</td>\n",
       "      <td>0.941176</td>\n",
       "      <td>0.434783</td>\n",
       "    </tr>\n",
       "    <tr>\n",
       "      <th>1</th>\n",
       "      <td>коллега сидеть рубиться в urban terror , а я и...</td>\n",
       "      <td>0</td>\n",
       "      <td>0.000023</td>\n",
       "      <td>0.000027</td>\n",
       "      <td>0.000100</td>\n",
       "      <td>0.000000</td>\n",
       "      <td>0.0</td>\n",
       "      <td>1.0</td>\n",
       "      <td>0.166667</td>\n",
       "      <td>0.666667</td>\n",
       "      <td>0.941176</td>\n",
       "      <td>0.941176</td>\n",
       "      <td>0.434783</td>\n",
       "    </tr>\n",
       "    <tr>\n",
       "      <th>2</th>\n",
       "      <td>at_user как говорят обещаной три год ждать . ....</td>\n",
       "      <td>0</td>\n",
       "      <td>0.000631</td>\n",
       "      <td>0.000031</td>\n",
       "      <td>0.000641</td>\n",
       "      <td>0.000000</td>\n",
       "      <td>0.0</td>\n",
       "      <td>1.0</td>\n",
       "      <td>0.166667</td>\n",
       "      <td>0.666667</td>\n",
       "      <td>0.941176</td>\n",
       "      <td>0.941176</td>\n",
       "      <td>0.434783</td>\n",
       "    </tr>\n",
       "    <tr>\n",
       "      <th>3</th>\n",
       "      <td>желать хороший полёт и удачный посадка , я быт...</td>\n",
       "      <td>0</td>\n",
       "      <td>0.009334</td>\n",
       "      <td>0.000131</td>\n",
       "      <td>0.000515</td>\n",
       "      <td>0.000000</td>\n",
       "      <td>0.0</td>\n",
       "      <td>1.0</td>\n",
       "      <td>0.166667</td>\n",
       "      <td>0.666667</td>\n",
       "      <td>0.941176</td>\n",
       "      <td>0.941176</td>\n",
       "      <td>0.434783</td>\n",
       "    </tr>\n",
       "    <tr>\n",
       "      <th>4</th>\n",
       "      <td>обновить за какой то леший surf , теперь не ра...</td>\n",
       "      <td>0</td>\n",
       "      <td>0.000031</td>\n",
       "      <td>0.000011</td>\n",
       "      <td>0.000088</td>\n",
       "      <td>0.000000</td>\n",
       "      <td>0.0</td>\n",
       "      <td>1.0</td>\n",
       "      <td>0.166667</td>\n",
       "      <td>0.666667</td>\n",
       "      <td>0.941176</td>\n",
       "      <td>0.941176</td>\n",
       "      <td>0.434783</td>\n",
       "    </tr>\n",
       "  </tbody>\n",
       "</table>\n",
       "</div>"
      ],
      "text/plain": [
       "                                                text  target  tstcount  \\\n",
       "0  на работа быть полный пиддес : и так каждый за...       0  0.007082   \n",
       "1  коллега сидеть рубиться в urban terror , а я и...       0  0.000023   \n",
       "2  at_user как говорят обещаной три год ждать . ....       0  0.000631   \n",
       "3  желать хороший полёт и удачный посадка , я быт...       0  0.009334   \n",
       "4  обновить за какой то леший surf , теперь не ра...       0  0.000031   \n",
       "\n",
       "      tfoll    tfrien  listcount  year  month       day  dayofweek      week  \\\n",
       "0  0.000070  0.000242   0.000118   0.0    1.0  0.166667   0.666667  0.941176   \n",
       "1  0.000027  0.000100   0.000000   0.0    1.0  0.166667   0.666667  0.941176   \n",
       "2  0.000031  0.000641   0.000000   0.0    1.0  0.166667   0.666667  0.941176   \n",
       "3  0.000131  0.000515   0.000000   0.0    1.0  0.166667   0.666667  0.941176   \n",
       "4  0.000011  0.000088   0.000000   0.0    1.0  0.166667   0.666667  0.941176   \n",
       "\n",
       "       week      hour  \n",
       "0  0.941176  0.434783  \n",
       "1  0.941176  0.434783  \n",
       "2  0.941176  0.434783  \n",
       "3  0.941176  0.434783  \n",
       "4  0.941176  0.434783  "
      ]
     },
     "execution_count": 139,
     "metadata": {},
     "output_type": "execute_result"
    }
   ],
   "source": [
    "dn.head()"
   ]
  },
  {
   "cell_type": "code",
   "execution_count": 140,
   "metadata": {},
   "outputs": [
    {
     "data": {
      "text/plain": [
       "(226834, 13)"
      ]
     },
     "execution_count": 140,
     "metadata": {},
     "output_type": "execute_result"
    }
   ],
   "source": [
    "dn.shape"
   ]
  },
  {
   "cell_type": "code",
   "execution_count": null,
   "metadata": {},
   "outputs": [],
   "source": []
  },
  {
   "cell_type": "code",
   "execution_count": null,
   "metadata": {},
   "outputs": [],
   "source": []
  },
  {
   "cell_type": "code",
   "execution_count": 142,
   "metadata": {},
   "outputs": [],
   "source": [
    "dn.to_csv(\"../data/processed_data_regression_v2.csv\", index=False)"
   ]
  },
  {
   "cell_type": "code",
   "execution_count": 105,
   "metadata": {},
   "outputs": [],
   "source": [
    "df = pd.read_csv(\"../data/processed_data_regression_v2.csv\", index_col=False)"
   ]
  },
  {
   "cell_type": "code",
   "execution_count": 106,
   "metadata": {},
   "outputs": [
    {
     "data": {
      "text/html": [
       "<div>\n",
       "<style scoped>\n",
       "    .dataframe tbody tr th:only-of-type {\n",
       "        vertical-align: middle;\n",
       "    }\n",
       "\n",
       "    .dataframe tbody tr th {\n",
       "        vertical-align: top;\n",
       "    }\n",
       "\n",
       "    .dataframe thead th {\n",
       "        text-align: right;\n",
       "    }\n",
       "</style>\n",
       "<table border=\"1\" class=\"dataframe\">\n",
       "  <thead>\n",
       "    <tr style=\"text-align: right;\">\n",
       "      <th></th>\n",
       "      <th>text</th>\n",
       "      <th>target</th>\n",
       "      <th>tstcount</th>\n",
       "      <th>tfoll</th>\n",
       "      <th>tfrien</th>\n",
       "      <th>listcount</th>\n",
       "      <th>year</th>\n",
       "      <th>month</th>\n",
       "      <th>day</th>\n",
       "      <th>dayofweek</th>\n",
       "      <th>week</th>\n",
       "      <th>week.1</th>\n",
       "      <th>hour</th>\n",
       "    </tr>\n",
       "  </thead>\n",
       "  <tbody>\n",
       "    <tr>\n",
       "      <th>0</th>\n",
       "      <td>на работа быть полный пиддес : и так каждый за...</td>\n",
       "      <td>0</td>\n",
       "      <td>0.007082</td>\n",
       "      <td>0.000070</td>\n",
       "      <td>0.000242</td>\n",
       "      <td>0.000118</td>\n",
       "      <td>0.0</td>\n",
       "      <td>1.0</td>\n",
       "      <td>0.166667</td>\n",
       "      <td>0.666667</td>\n",
       "      <td>0.941176</td>\n",
       "      <td>0.941176</td>\n",
       "      <td>0.434783</td>\n",
       "    </tr>\n",
       "    <tr>\n",
       "      <th>1</th>\n",
       "      <td>коллега сидеть рубиться в urban terror , а я и...</td>\n",
       "      <td>0</td>\n",
       "      <td>0.000023</td>\n",
       "      <td>0.000027</td>\n",
       "      <td>0.000100</td>\n",
       "      <td>0.000000</td>\n",
       "      <td>0.0</td>\n",
       "      <td>1.0</td>\n",
       "      <td>0.166667</td>\n",
       "      <td>0.666667</td>\n",
       "      <td>0.941176</td>\n",
       "      <td>0.941176</td>\n",
       "      <td>0.434783</td>\n",
       "    </tr>\n",
       "    <tr>\n",
       "      <th>2</th>\n",
       "      <td>at_user как говорят обещаной три год ждать . ....</td>\n",
       "      <td>0</td>\n",
       "      <td>0.000631</td>\n",
       "      <td>0.000031</td>\n",
       "      <td>0.000641</td>\n",
       "      <td>0.000000</td>\n",
       "      <td>0.0</td>\n",
       "      <td>1.0</td>\n",
       "      <td>0.166667</td>\n",
       "      <td>0.666667</td>\n",
       "      <td>0.941176</td>\n",
       "      <td>0.941176</td>\n",
       "      <td>0.434783</td>\n",
       "    </tr>\n",
       "    <tr>\n",
       "      <th>3</th>\n",
       "      <td>желать хороший полёт и удачный посадка , я быт...</td>\n",
       "      <td>0</td>\n",
       "      <td>0.009334</td>\n",
       "      <td>0.000131</td>\n",
       "      <td>0.000515</td>\n",
       "      <td>0.000000</td>\n",
       "      <td>0.0</td>\n",
       "      <td>1.0</td>\n",
       "      <td>0.166667</td>\n",
       "      <td>0.666667</td>\n",
       "      <td>0.941176</td>\n",
       "      <td>0.941176</td>\n",
       "      <td>0.434783</td>\n",
       "    </tr>\n",
       "    <tr>\n",
       "      <th>4</th>\n",
       "      <td>обновить за какой то леший surf , теперь не ра...</td>\n",
       "      <td>0</td>\n",
       "      <td>0.000031</td>\n",
       "      <td>0.000011</td>\n",
       "      <td>0.000088</td>\n",
       "      <td>0.000000</td>\n",
       "      <td>0.0</td>\n",
       "      <td>1.0</td>\n",
       "      <td>0.166667</td>\n",
       "      <td>0.666667</td>\n",
       "      <td>0.941176</td>\n",
       "      <td>0.941176</td>\n",
       "      <td>0.434783</td>\n",
       "    </tr>\n",
       "  </tbody>\n",
       "</table>\n",
       "</div>"
      ],
      "text/plain": [
       "                                                text  target  tstcount  \\\n",
       "0  на работа быть полный пиддес : и так каждый за...       0  0.007082   \n",
       "1  коллега сидеть рубиться в urban terror , а я и...       0  0.000023   \n",
       "2  at_user как говорят обещаной три год ждать . ....       0  0.000631   \n",
       "3  желать хороший полёт и удачный посадка , я быт...       0  0.009334   \n",
       "4  обновить за какой то леший surf , теперь не ра...       0  0.000031   \n",
       "\n",
       "      tfoll    tfrien  listcount  year  month       day  dayofweek      week  \\\n",
       "0  0.000070  0.000242   0.000118   0.0    1.0  0.166667   0.666667  0.941176   \n",
       "1  0.000027  0.000100   0.000000   0.0    1.0  0.166667   0.666667  0.941176   \n",
       "2  0.000031  0.000641   0.000000   0.0    1.0  0.166667   0.666667  0.941176   \n",
       "3  0.000131  0.000515   0.000000   0.0    1.0  0.166667   0.666667  0.941176   \n",
       "4  0.000011  0.000088   0.000000   0.0    1.0  0.166667   0.666667  0.941176   \n",
       "\n",
       "     week.1      hour  \n",
       "0  0.941176  0.434783  \n",
       "1  0.941176  0.434783  \n",
       "2  0.941176  0.434783  \n",
       "3  0.941176  0.434783  \n",
       "4  0.941176  0.434783  "
      ]
     },
     "execution_count": 106,
     "metadata": {},
     "output_type": "execute_result"
    }
   ],
   "source": [
    "df.head()"
   ]
  },
  {
   "cell_type": "code",
   "execution_count": 107,
   "metadata": {},
   "outputs": [
    {
     "data": {
      "text/plain": [
       "0        189904\n",
       "1         22487\n",
       "2          4404\n",
       "3          2104\n",
       "4          1206\n",
       "          ...  \n",
       "950           1\n",
       "359           1\n",
       "183           1\n",
       "439           1\n",
       "13817         1\n",
       "Name: target, Length: 567, dtype: int64"
      ]
     },
     "execution_count": 107,
     "metadata": {},
     "output_type": "execute_result"
    }
   ],
   "source": [
    "df.target.value_counts()"
   ]
  },
  {
   "cell_type": "code",
   "execution_count": 108,
   "metadata": {},
   "outputs": [
    {
     "data": {
      "text/plain": [
       "(0.0, 20000.0)"
      ]
     },
     "execution_count": 108,
     "metadata": {},
     "output_type": "execute_result"
    },
    {
     "data": {
      "image/png": "[encoded data removed]",
      "text/plain": [
       "<Figure size 432x288 with 1 Axes>"
      ]
     },
     "metadata": {
      "needs_background": "light"
     },
     "output_type": "display_data"
    }
   ],
   "source": [
    "fig, ax = plt.subplots()\n",
    "df.target.hist(ax=ax, bins=100, bottom=0.1)\n",
    "ax.set_yscale('log')\n",
    "plt.xlim((0, 20000))"
   ]
  },
  {
   "cell_type": "code",
   "execution_count": null,
   "metadata": {},
   "outputs": [],
   "source": []
  },
  {
   "cell_type": "code",
   "execution_count": null,
   "metadata": {},
   "outputs": [],
   "source": []
  },
  {
   "cell_type": "code",
   "execution_count": 109,
   "metadata": {},
   "outputs": [
    {
     "data": {
      "text/plain": [
       "((136100, 13), (45367, 13), (45367, 13))"
      ]
     },
     "execution_count": 109,
     "metadata": {},
     "output_type": "execute_result"
    }
   ],
   "source": [
    "# Формирование train test valid данных\n",
    "\n",
    "# df = pd.read_csv(\"../data/preprocessed_text_v1.csv\", index_col=False)\n",
    "\n",
    "df = df.drop(df[df['text'].map(str) == 'nan'].index)\n",
    "\n",
    "train, validate, test = np.split(df.sample(frac=1), [int(.6*len(df)), int(.8*len(df))])\n",
    "train.to_csv(\"../data/train_processed_data_regression.csv\", index=False)\n",
    "validate.to_csv(\"../data/validate_processed_data_regression.csv\", index=False)\n",
    "test.to_csv(\"../data/test_processed_data_regression.csv\", index=False)\n",
    "\n",
    "train.shape, validate.shape, test.shape"
   ]
  },
  {
   "cell_type": "code",
   "execution_count": 110,
   "metadata": {},
   "outputs": [],
   "source": [
    "tokenize = lambda x: str(x).split()\n",
    "\n",
    "TEXT = data.Field(sequential=True, tokenize=tokenize, batch_first=True)\n",
    "# число всех сообщений пользователя в сети twitter;\n",
    "TSTCOUNT = data.Field(sequential=False, use_vocab=False, dtype=torch.float)\n",
    "# количество фоловеров пользователя (тех людей, которые читают пользователя);\n",
    "TFOLL = data.Field(sequential=False, use_vocab=False, dtype=torch.float)\n",
    "# количество друзей пользователя (те люди, которых читает пользователь);\n",
    "TFRIEN = data.Field(sequential=False, use_vocab=False, dtype=torch.float)\n",
    "# количество листов-подписок в которые добавлен твиттер-пользователь.\n",
    "LISTCOUNT = data.Field(sequential=False, use_vocab=False, dtype=torch.float)\n",
    "# число ретвитов\n",
    "TARGET = data.Field(sequential=False, use_vocab=False, dtype=torch.float)\n",
    "\n",
    "fields = [('text',TEXT), ('tstcount', TSTCOUNT), ('tfoll', TFOLL), ('tfrien', TFRIEN), ('listcount', LISTCOUNT), ('target', TARGET)]"
   ]
  },
  {
   "cell_type": "code",
   "execution_count": 111,
   "metadata": {},
   "outputs": [],
   "source": [
    "\n",
    "train_data, valid_data, test_data = data.TabularDataset.splits(\n",
    "                                        path=\"../data/\",\n",
    "                                        train=\"train_processed_data_regression.csv\",\n",
    "                                        validation=\"validate_processed_data_regression.csv\",\n",
    "                                        test=\"test_processed_data_regression.csv\",\n",
    "                                        format=\"csv\",\n",
    "                                        fields=fields,\n",
    "                                        skip_header=True\n",
    ")"
   ]
  },
  {
   "cell_type": "code",
   "execution_count": 112,
   "metadata": {},
   "outputs": [
    {
     "name": "stdout",
     "output_type": "stream",
     "text": [
      "{'text': ['оставаться', 'самый', 'нужный', 'и', 'самый', 'близкие', ')', 'весь', 'остальной', 'уходить', ')', 'и', 'я', 'только', 'рада', ')', 'потому', 'что', 'я', 'никогда', 'сам', 'не', 'понять', 'нужный', 'я', 'человек', 'или', 'нет', ')'], 'tstcount': '0', 'tfoll': '0.03114683407120255', 'tfrien': '7.455109814399355e-05', 'listcount': '8.755868363244925e-05', 'target': '0.0001182382500738989'}\n"
     ]
    }
   ],
   "source": [
    "print(vars(train_data[0]))"
   ]
  },
  {
   "cell_type": "code",
   "execution_count": 113,
   "metadata": {},
   "outputs": [
    {
     "name": "stdout",
     "output_type": "stream",
     "text": [
      "{'text': ['at_user', 'at_user', 'я', 'старушка', '(', '(', '('], 'tstcount': '1', 'tfoll': '0.00889131673866783', 'tfrien': '0.00037275549071996776', 'listcount': '0.0012927782112791034', 'target': '0.0003547147502216968'}\n"
     ]
    }
   ],
   "source": [
    "print(vars(valid_data[0]))"
   ]
  },
  {
   "cell_type": "code",
   "execution_count": 114,
   "metadata": {},
   "outputs": [
    {
     "name": "stdout",
     "output_type": "stream",
     "text": [
      "{'text': ['at_user', 'привееть', ',', 'хелена', ':', ')', ')', ')', 'мимими', '.', '.', '.', 'пряник', ',', 'конфета', 'и', 'сирец'], 'tstcount': '0', 'tfoll': '0.004018833010286842', 'tfrien': '8.023719884989137e-05', 'listcount': '0.0003811377993412497', 'target': '0.00017735737511084836'}\n"
     ]
    }
   ],
   "source": [
    "print(vars(test_data[0]))"
   ]
  },
  {
   "cell_type": "code",
   "execution_count": 115,
   "metadata": {},
   "outputs": [
    {
     "name": "stdout",
     "output_type": "stream",
     "text": [
      "Number of training examples: 136100\n",
      "Number of validation examples: 45367\n",
      "Number of testing examples: 45367\n"
     ]
    }
   ],
   "source": [
    "print(f'Number of training examples: {len(train_data)}')\n",
    "print(f'Number of validation examples: {len(valid_data)}')\n",
    "print(f'Number of testing examples: {len(test_data)}')"
   ]
  },
  {
   "cell_type": "code",
   "execution_count": 116,
   "metadata": {},
   "outputs": [],
   "source": [
    "# TEXT.build_vocab(train_data, max_size=config.max_vocab_size)\n",
    "TEXT.build_vocab(train_data, min_freq=2)\n",
    "# TSTCOUNT.build_vocab(train_data)\n",
    "# TFOLL.build_vocab(train_data)\n",
    "# TFRIEN.build_vocab(train_data)\n",
    "# LISTCOUNT.build_vocab(train_data)\n",
    "# TARGET.build_vocab(train_data)"
   ]
  },
  {
   "cell_type": "code",
   "execution_count": 117,
   "metadata": {},
   "outputs": [
    {
     "name": "stdout",
     "output_type": "stream",
     "text": [
      "Unique tokens in TEXT vocabulary: 33015\n"
     ]
    }
   ],
   "source": [
    "print(f\"Unique tokens in TEXT vocabulary: {len(TEXT.vocab)}\")\n",
    "# print(f\"Unique tokens in LABEL vocabulary: {len(TARGET.vocab)}\")"
   ]
  },
  {
   "cell_type": "code",
   "execution_count": 118,
   "metadata": {},
   "outputs": [],
   "source": [
    "train_iterator, valid_iterator, test_iterator = data.BucketIterator.splits(\n",
    "    (train_data, valid_data, test_data),\n",
    "    sort_key = lambda x: x.text,\n",
    "    batch_size=config.batch_size,\n",
    "    device=config.device)"
   ]
  },
  {
   "cell_type": "code",
   "execution_count": 119,
   "metadata": {},
   "outputs": [],
   "source": [
    "# print('Train:')\n",
    "# for batch in train_iterator:\n",
    "#     print(batch)\n",
    "    \n",
    "# print('Valid:')\n",
    "# for batch in valid_iterator:\n",
    "#     print(batch)\n",
    "    \n",
    "# print('Test:')\n",
    "# for batch in test_iterator:\n",
    "#     print(batch)"
   ]
  },
  {
   "cell_type": "code",
   "execution_count": 120,
   "metadata": {},
   "outputs": [
    {
     "name": "stdout",
     "output_type": "stream",
     "text": [
      "[('(', 126857), (')', 116605), (',', 112838), ('.', 110646), ('at_user', 89459), (':', 64837), ('я', 64791), ('не', 44975), ('!', 39989), ('и', 36467), ('в', 35466), ('что', 23049), ('на', 22897), ('а', 21841), ('?', 21683), ('с', 20052), ('весь', 18848), ('ты', 18175), ('быть', 16970), ('это', 14896)]\n"
     ]
    }
   ],
   "source": [
    "print(TEXT.vocab.freqs.most_common(20))"
   ]
  },
  {
   "cell_type": "code",
   "execution_count": 121,
   "metadata": {},
   "outputs": [
    {
     "name": "stdout",
     "output_type": "stream",
     "text": [
      "['<unk>', '<pad>', '(', ')', ',', '.', 'at_user', ':', 'я', 'не']\n"
     ]
    }
   ],
   "source": [
    "print(TEXT.vocab.itos[:10])"
   ]
  },
  {
   "cell_type": "code",
   "execution_count": null,
   "metadata": {},
   "outputs": [],
   "source": []
  },
  {
   "cell_type": "code",
   "execution_count": 122,
   "metadata": {},
   "outputs": [
    {
     "data": {
      "text/plain": [
       "torch.Size([33015, 300])"
      ]
     },
     "execution_count": 122,
     "metadata": {},
     "output_type": "execute_result"
    }
   ],
   "source": [
    "import zipfile\n",
    "import gensim\n",
    "import wget\n",
    "\n",
    "model_url = 'http://vectors.nlpl.eu/repository/11/187.zip'\n",
    "# wget.download(model_url)\n",
    "w2v_model = gensim.models.KeyedVectors.load('187/model.model')\n",
    "numpy_embeddings = np.zeros(shape=[len(TEXT.vocab), config.embed_dim],dtype=np.float32)\n",
    "\n",
    "for word in TEXT.vocab.itos:\n",
    "    vector = w2v_model.get_vector(word)\n",
    "    index  = TEXT.vocab.stoi[word]\n",
    "    numpy_embeddings[index] = vector\n",
    "    \n",
    "pretrained_embeddings = torch.Tensor(numpy_embeddings).float()\n",
    "pretrained_embeddings.shape"
   ]
  },
  {
   "cell_type": "code",
   "execution_count": 123,
   "metadata": {},
   "outputs": [],
   "source": [
    "class CNN1d(nn.Module):\n",
    "    def __init__(self, vocab_size, embedding_dim, n_filters, filter_sizes, hidden, output_dim, dropout, pad_idx):\n",
    "        \n",
    "        super().__init__()\n",
    "        \n",
    "        self.embedding = nn.Embedding(vocab_size, embedding_dim, padding_idx = pad_idx)\n",
    "        \n",
    "        self.convs = nn.ModuleList([\n",
    "                                    nn.Conv1d(in_channels = embedding_dim, \n",
    "                                              out_channels = n_filters, \n",
    "                                              kernel_size = fs)\n",
    "                                    for fs in filter_sizes\n",
    "                                    ])\n",
    "        \n",
    "        self.fc_text = nn.Linear(len(filter_sizes) * n_filters, hidden)\n",
    "        \n",
    "        self.dropout = nn.Dropout(dropout)\n",
    "        \n",
    "        self.fc = nn.Linear(hidden + 4, output_dim)\n",
    "\n",
    "    def forward(self, text, tstcount, tfoll, tfrien, listcount):\n",
    "        \n",
    "        tstcount, tfoll, tfrien, listcount = tstcount.unsqueeze(1), tfoll.unsqueeze(1), tfrien.unsqueeze(1), listcount.unsqueeze(1)\n",
    "        \n",
    "#         print(text)\n",
    "#         print(tstcount)\n",
    "#         print(tfoll)\n",
    "#         print(tfrien)\n",
    "#         print(listcount)\n",
    "        #text = [batch size, sent len]\n",
    "        \n",
    "        embedded = self.embedding(text)  \n",
    "        #embedded = [batch size, sent len, emb dim]\n",
    "        \n",
    "        embedded = embedded.permute(0, 2, 1)\n",
    "        #embedded = [batch size, emb dim, sent len]\n",
    "        \n",
    "        conved = [F.relu(conv(embedded)) for conv in self.convs]\n",
    "        #conved_n = [batch size, n_filters, sent len - filter_sizes[n] + 1]\n",
    "        \n",
    "        pooled = [F.max_pool1d(conv, conv.shape[2]).squeeze(2) for conv in conved]\n",
    "        #pooled_n = [batch size, n_filters]\n",
    "        \n",
    "        cat = self.dropout(torch.cat(pooled, dim = 1))\n",
    "        #cat = [batch size, n_filters * len(filter_sizes)]\n",
    "        \n",
    "        text_features = self.fc_text(cat)\n",
    "            \n",
    "#         text_features = text_features.unsqueeze(1)\n",
    "#         print(text_features.shape)\n",
    "#         print(text_features)\n",
    "#         print(tstcount.shape)\n",
    "#         print(tstcount)\n",
    "#         print(tfoll.shape)\n",
    "#         print(tfoll)\n",
    "#         print(tfrien.shape)\n",
    "#         print(tfrien)\n",
    "#         print(listcount.shape)\n",
    "#         print(listcount)\n",
    "        \n",
    "#         tstcount = tstcount.permute(1, 0)\n",
    "#         tfoll = tfoll.permute(1, 0)\n",
    "#         tfrien = tfrien.permute(1, 0)\n",
    "#         listcount = listcount.permute(1, 0)\n",
    "        \n",
    "        cat = torch.cat([text_features, tstcount, tfoll, tfrien, listcount], dim = 1)\n",
    "        \n",
    "#         print(cat.shape)\n",
    "#         print(cat)\n",
    "        \n",
    "        result = self.fc(cat)\n",
    "            \n",
    "        return result\n",
    "\n",
    "    \n",
    "# INPUT_DIM = len(TEXT.vocab)\n",
    "# EMBEDDING_DIM = config.embed_dim\n",
    "# N_FILTERS = 128\n",
    "# FILTER_SIZES = [2, 3]\n",
    "# HIDDEN = 4\n",
    "# OUTPUT_DIM = 1\n",
    "# DROPOUT = 0.5\n",
    "# PAD_IDX = TEXT.vocab.stoi[TEXT.pad_token]\n",
    "\n",
    "# import torch.optim as optim\n",
    "\n",
    "# criterion = nn.MSELoss()\n",
    "\n",
    "# model = CNN1d(INPUT_DIM, EMBEDDING_DIM, N_FILTERS, FILTER_SIZES, HIDDEN, OUTPUT_DIM, DROPOUT, PAD_IDX)   \n",
    "# model = model.to(config.device)\n",
    "# optimizer = optim.Adam(model.parameters())\n",
    "# criterion = criterion.to(config.device)\n",
    "\n",
    "\n",
    "\n",
    "\n",
    "# for batch in train_iterator:\n",
    "#     print(batch)\n",
    "    \n",
    "    \n",
    "    \n",
    "    \n",
    "    \n",
    "#     predictions = model(batch.text, batch.tstcount, batch.tfoll, batch.tfrien, batch.listcount).squeeze(1)\n",
    "#     print(predictions.shape)\n",
    "#     break"
   ]
  },
  {
   "cell_type": "code",
   "execution_count": 135,
   "metadata": {},
   "outputs": [],
   "source": [
    "INPUT_DIM = len(TEXT.vocab)\n",
    "EMBEDDING_DIM = config.embed_dim\n",
    "N_FILTERS = 128\n",
    "FILTER_SIZES = [2, 3]\n",
    "HIDDEN = 4\n",
    "OUTPUT_DIM = 1\n",
    "DROPOUT = 0.5\n",
    "PAD_IDX = TEXT.vocab.stoi[TEXT.pad_token]\n",
    "\n",
    "model = CNN1d(INPUT_DIM, EMBEDDING_DIM, N_FILTERS, FILTER_SIZES, HIDDEN, OUTPUT_DIM, DROPOUT, PAD_IDX)"
   ]
  },
  {
   "cell_type": "code",
   "execution_count": 136,
   "metadata": {},
   "outputs": [
    {
     "name": "stdout",
     "output_type": "stream",
     "text": [
      "The model has 10,097,793 trainable parameters\n"
     ]
    }
   ],
   "source": [
    "def count_parameters(model):\n",
    "    return sum(p.numel() for p in model.parameters() if p.requires_grad)\n",
    "\n",
    "print(f'The model has {count_parameters(model):,} trainable parameters')"
   ]
  },
  {
   "cell_type": "code",
   "execution_count": 137,
   "metadata": {},
   "outputs": [
    {
     "data": {
      "text/plain": [
       "tensor([[ 3.0550e-02, -3.5227e-01, -1.5996e-01,  ..., -6.7555e-01,\n",
       "          1.6213e-01, -6.4838e-01],\n",
       "        [ 5.5938e-01,  7.1610e-01, -5.2220e-02,  ..., -3.1100e-01,\n",
       "          1.0994e+00, -7.4458e-01],\n",
       "        [ 8.6657e-04,  2.8588e-03, -1.2546e-03,  ...,  2.7372e-03,\n",
       "          3.3164e-03,  2.3352e-03],\n",
       "        ...,\n",
       "        [ 1.2707e-01, -2.0811e-02,  1.6323e-01,  ..., -1.2492e-03,\n",
       "          2.0801e-01, -2.6840e-03],\n",
       "        [-1.0621e+00,  2.0553e+00, -1.1423e+00,  ...,  3.4679e-01,\n",
       "         -3.4598e-01, -1.1714e+00],\n",
       "        [-2.3426e-02,  7.1213e-02, -9.7777e-02,  ...,  1.2438e-04,\n",
       "         -1.1894e-03,  2.1802e-02]])"
      ]
     },
     "execution_count": 137,
     "metadata": {},
     "output_type": "execute_result"
    }
   ],
   "source": [
    "model.embedding.weight.data.copy_(pretrained_embeddings)"
   ]
  },
  {
   "cell_type": "code",
   "execution_count": 138,
   "metadata": {},
   "outputs": [],
   "source": [
    "UNK_IDX = TEXT.vocab.stoi[TEXT.unk_token]\n",
    "\n",
    "model.embedding.weight.data[UNK_IDX] = torch.zeros(EMBEDDING_DIM)\n",
    "model.embedding.weight.data[PAD_IDX] = torch.zeros(EMBEDDING_DIM)"
   ]
  },
  {
   "cell_type": "code",
   "execution_count": 139,
   "metadata": {},
   "outputs": [],
   "source": [
    "import torch.optim as optim\n",
    "\n",
    "optimizer = optim.Adam(model.parameters())\n",
    "\n",
    "criterion = nn.MSELoss()\n",
    "\n",
    "model = model.to(config.device)\n",
    "criterion = criterion.to(config.device)"
   ]
  },
  {
   "cell_type": "code",
   "execution_count": 140,
   "metadata": {},
   "outputs": [],
   "source": [
    "def binary_accuracy(preds, y):\n",
    "    \"\"\"\n",
    "    Returns accuracy per batch, i.e. if you get 8/10 right, this returns 0.8, NOT 8\n",
    "    \"\"\"\n",
    "\n",
    "    #round predictions to the closest integer\n",
    "    rounded_preds = torch.round(torch.sigmoid(preds))\n",
    "    correct = (rounded_preds == y).float() #convert into float for division \n",
    "    acc = correct.sum() / len(correct)\n",
    "    return acc"
   ]
  },
  {
   "cell_type": "code",
   "execution_count": 141,
   "metadata": {},
   "outputs": [],
   "source": [
    "def train(model, iterator, optimizer, criterion):\n",
    "    \n",
    "    epoch_loss = 0\n",
    "    epoch_acc = 0\n",
    "    \n",
    "    model.train()\n",
    "    \n",
    "    for batch in iterator:\n",
    "        \n",
    "        optimizer.zero_grad()\n",
    "        \n",
    "        predictions = model(batch.text, batch.tstcount, batch.tfoll, batch.tfrien, batch.listcount).squeeze(1)\n",
    "        \n",
    "        loss = criterion(predictions, batch.target)\n",
    "        \n",
    "#         acc = binary_accuracy(predictions, batch.target)\n",
    "        \n",
    "        loss.backward()\n",
    "        \n",
    "        optimizer.step()\n",
    "        \n",
    "        epoch_loss += loss.item()\n",
    "#         epoch_acc += acc.item()\n",
    "        \n",
    "    return epoch_loss / len(iterator)"
   ]
  },
  {
   "cell_type": "code",
   "execution_count": 142,
   "metadata": {},
   "outputs": [],
   "source": [
    "def evaluate(model, iterator, criterion):\n",
    "    \n",
    "    epoch_loss = 0\n",
    "    epoch_acc = 0\n",
    "    \n",
    "    model.eval()\n",
    "    \n",
    "    with torch.no_grad():\n",
    "    \n",
    "        for batch in iterator:\n",
    "\n",
    "            predictions = model(batch.text, batch.tstcount, batch.tfoll, batch.tfrien, batch.listcount).squeeze(1)\n",
    "            \n",
    "            loss = criterion(predictions, batch.target)\n",
    "            \n",
    "#             acc = binary_accuracy(predictions, batch.target)\n",
    "\n",
    "            epoch_loss += loss.item()\n",
    "#             epoch_acc += acc.item()\n",
    "        \n",
    "    return epoch_loss / len(iterator)"
   ]
  },
  {
   "cell_type": "code",
   "execution_count": 143,
   "metadata": {},
   "outputs": [],
   "source": [
    "import time\n",
    "\n",
    "def epoch_time(start_time, end_time):\n",
    "    elapsed_time = end_time - start_time\n",
    "    elapsed_mins = int(elapsed_time / 60)\n",
    "    elapsed_secs = int(elapsed_time - (elapsed_mins * 60))\n",
    "    return elapsed_mins, elapsed_secs"
   ]
  },
  {
   "cell_type": "code",
   "execution_count": 144,
   "metadata": {},
   "outputs": [
    {
     "name": "stdout",
     "output_type": "stream",
     "text": [
      "Epoch: 01 | Epoch Time: 0m 22s\n",
      "\tTrain Loss: 216.562\n",
      "\t Val. Loss: 32.595\n",
      "Epoch: 02 | Epoch Time: 0m 22s\n",
      "\tTrain Loss: 18.176\n",
      "\t Val. Loss: 1.141\n",
      "Epoch: 03 | Epoch Time: 0m 21s\n",
      "\tTrain Loss: 0.791\n",
      "\t Val. Loss: 0.130\n",
      "Epoch: 04 | Epoch Time: 0m 21s\n",
      "\tTrain Loss: 0.134\n",
      "\t Val. Loss: 0.124\n",
      "Epoch: 05 | Epoch Time: 0m 21s\n",
      "\tTrain Loss: 0.908\n",
      "\t Val. Loss: 0.524\n",
      "Epoch: 06 | Epoch Time: 0m 22s\n",
      "\tTrain Loss: 0.414\n",
      "\t Val. Loss: 0.990\n",
      "Epoch: 07 | Epoch Time: 0m 22s\n",
      "\tTrain Loss: 0.726\n",
      "\t Val. Loss: 0.005\n",
      "Epoch: 08 | Epoch Time: 0m 22s\n",
      "\tTrain Loss: 0.274\n",
      "\t Val. Loss: 1.735\n",
      "Epoch: 09 | Epoch Time: 0m 22s\n",
      "\tTrain Loss: 0.435\n",
      "\t Val. Loss: 0.061\n",
      "Epoch: 10 | Epoch Time: 0m 21s\n",
      "\tTrain Loss: 0.727\n",
      "\t Val. Loss: 0.005\n",
      "Epoch: 11 | Epoch Time: 0m 21s\n",
      "\tTrain Loss: 0.349\n",
      "\t Val. Loss: 0.486\n",
      "Epoch: 12 | Epoch Time: 0m 21s\n",
      "\tTrain Loss: 0.572\n",
      "\t Val. Loss: 0.051\n",
      "Epoch: 13 | Epoch Time: 0m 22s\n",
      "\tTrain Loss: 1.087\n",
      "\t Val. Loss: 0.028\n",
      "Epoch: 14 | Epoch Time: 0m 22s\n",
      "\tTrain Loss: 0.624\n",
      "\t Val. Loss: 0.193\n",
      "Epoch: 15 | Epoch Time: 0m 22s\n",
      "\tTrain Loss: 0.388\n",
      "\t Val. Loss: 0.406\n"
     ]
    }
   ],
   "source": [
    "N_EPOCHS = 15\n",
    "\n",
    "best_valid_loss = float('inf')\n",
    "\n",
    "for epoch in range(N_EPOCHS):\n",
    "\n",
    "    start_time = time.time()\n",
    "    \n",
    "    train_loss = train(model, train_iterator, optimizer, criterion)\n",
    "    valid_loss = evaluate(model, valid_iterator, criterion)\n",
    "    \n",
    "    end_time = time.time()\n",
    "\n",
    "    epoch_mins, epoch_secs = epoch_time(start_time, end_time)\n",
    "    \n",
    "    if valid_loss < best_valid_loss:\n",
    "        best_valid_loss = valid_loss\n",
    "        torch.save(model.state_dict(), 'tut4-model.pt')\n",
    "    \n",
    "    print(f'Epoch: {epoch+1:02} | Epoch Time: {epoch_mins}m {epoch_secs}s')\n",
    "    print(f'\\tTrain Loss: {train_loss:.3f}')\n",
    "    print(f'\\t Val. Loss: {valid_loss:.3f}')"
   ]
  },
  {
   "cell_type": "code",
   "execution_count": 145,
   "metadata": {},
   "outputs": [
    {
     "name": "stdout",
     "output_type": "stream",
     "text": [
      "Test Loss: 0.003\n"
     ]
    }
   ],
   "source": [
    "model.load_state_dict(torch.load('tut4-model.pt'))\n",
    "\n",
    "test_loss = evaluate(model, test_iterator, criterion)\n",
    "\n",
    "print(f'Test Loss: {test_loss:.3f}')"
   ]
  },
  {
   "cell_type": "code",
   "execution_count": null,
   "metadata": {},
   "outputs": [],
   "source": []
  },
  {
   "cell_type": "code",
   "execution_count": null,
   "metadata": {},
   "outputs": [],
   "source": []
  },
  {
   "cell_type": "code",
   "execution_count": null,
   "metadata": {},
   "outputs": [],
   "source": []
  },
  {
   "cell_type": "code",
   "execution_count": null,
   "metadata": {},
   "outputs": [],
   "source": []
  },
  {
   "cell_type": "code",
   "execution_count": null,
   "metadata": {},
   "outputs": [],
   "source": []
  },
  {
   "cell_type": "code",
   "execution_count": null,
   "metadata": {},
   "outputs": [],
   "source": []
  },
  {
   "cell_type": "code",
   "execution_count": null,
   "metadata": {},
   "outputs": [],
   "source": []
  },
  {
   "cell_type": "code",
   "execution_count": null,
   "metadata": {},
   "outputs": [],
   "source": []
  },
  {
   "cell_type": "code",
   "execution_count": null,
   "metadata": {},
   "outputs": [],
   "source": []
  },
  {
   "cell_type": "code",
   "execution_count": null,
   "metadata": {},
   "outputs": [],
   "source": []
  },
  {
   "cell_type": "code",
   "execution_count": null,
   "metadata": {},
   "outputs": [],
   "source": []
  },
  {
   "cell_type": "code",
   "execution_count": null,
   "metadata": {},
   "outputs": [],
   "source": []
  }
 ],
 "metadata": {
  "kernelspec": {
   "display_name": "Python 3",
   "language": "python",
   "name": "python3"
  },
  "language_info": {
   "codemirror_mode": {
    "name": "ipython",
    "version": 3
   },
   "file_extension": ".py",
   "mimetype": "text/x-python",
   "name": "python",
   "nbconvert_exporter": "python",
   "pygments_lexer": "ipython3",
   "version": "3.8.1"
  }
 },
 "nbformat": 4,
 "nbformat_minor": 4
}
