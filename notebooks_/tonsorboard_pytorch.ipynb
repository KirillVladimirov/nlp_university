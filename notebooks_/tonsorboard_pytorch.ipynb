{
 "cells": [
  {
   "cell_type": "code",
   "execution_count": 1,
   "metadata": {},
   "outputs": [],
   "source": [
    "from torch.utils.tensorboard import SummaryWriter"
   ]
  },
  {
   "cell_type": "code",
   "execution_count": 2,
   "metadata": {},
   "outputs": [
    {
     "name": "stderr",
     "output_type": "stream",
     "text": [
      "/home/science/projects/packt/venv/lib/python3.8/site-packages/pandas/compat/__init__.py:117: UserWarning: Could not import the lzma module. Your installed Python is incomplete. Attempting to use lzma compression will result in a RuntimeError.\n",
      "  warnings.warn(msg)\n"
     ]
    }
   ],
   "source": [
    "writer = SummaryWriter()"
   ]
  },
  {
   "cell_type": "code",
   "execution_count": 3,
   "metadata": {},
   "outputs": [],
   "source": [
    "for x in range(5):\n",
    "    y = 100 * x\n",
    "    writer.add_scalar('y', y, x)\n",
    "    \n",
    "writer.close()"
   ]
  },
  {
   "cell_type": "code",
   "execution_count": 4,
   "metadata": {},
   "outputs": [],
   "source": [
    "%load_ext tensorboard"
   ]
  },
  {
   "cell_type": "code",
   "execution_count": 5,
   "metadata": {},
   "outputs": [
    {
     "data": {
      "text/html": [
       "\n",
       "      <iframe id=\"tensorboard-frame-f333530b209ec066\" width=\"100%\" height=\"800\" frameborder=\"0\">\n",
       "      </iframe>\n",
       "      <script>\n",
       "        (function() {\n",
       "          const frame = document.getElementById(\"tensorboard-frame-f333530b209ec066\");\n",
       "          const url = new URL(\"/\", window.location);\n",
       "          const port = 6007;\n",
       "          if (port) {\n",
       "            url.port = port;\n",
       "          }\n",
       "          frame.src = url;\n",
       "        })();\n",
       "      </script>\n",
       "    "
      ],
      "text/plain": [
       "<IPython.core.display.HTML object>"
      ]
     },
     "metadata": {},
     "output_type": "display_data"
    }
   ],
   "source": [
    "%tensorboard --logdir ./runs/"
   ]
  },
  {
   "cell_type": "code",
   "execution_count": 6,
   "metadata": {},
   "outputs": [],
   "source": [
    "writer = SummaryWriter()\n",
    "\n",
    "for x in range(100):\n",
    "    y = x**2\n",
    "    writer.add_scalar('y = x**2', y, x)\n",
    "    \n",
    "writer.close()"
   ]
  },
  {
   "cell_type": "code",
   "execution_count": null,
   "metadata": {},
   "outputs": [],
   "source": []
  },
  {
   "cell_type": "code",
   "execution_count": 7,
   "metadata": {},
   "outputs": [],
   "source": [
    "import torch\n",
    "import torch.nn as nn\n",
    "import torch.nn.functional as F\n",
    "import torch.optim as optim"
   ]
  },
  {
   "cell_type": "code",
   "execution_count": 8,
   "metadata": {},
   "outputs": [],
   "source": [
    "class MyNet(nn.Module):\n",
    "    def __init__(self):\n",
    "        super(MyNet, self).__init__()\n",
    "        self.fc1 = nn.Linear(1, 100)\n",
    "        self.fc2 = nn.Linear(100, 50)\n",
    "        self.fc3 = nn.Linear(50, 1)\n",
    "        \n",
    "    def forward(self, x):\n",
    "        x = F.relu(self.fc1(x))\n",
    "        x = F.relu(self.fc2(x))\n",
    "        return F.relu(self.fc3(x))"
   ]
  },
  {
   "cell_type": "code",
   "execution_count": 24,
   "metadata": {},
   "outputs": [],
   "source": [
    "model = MyNet()"
   ]
  },
  {
   "cell_type": "code",
   "execution_count": 34,
   "metadata": {},
   "outputs": [
    {
     "name": "stdout",
     "output_type": "stream",
     "text": [
      "MyNet(\n",
      "  (fc1): Linear(in_features=1, out_features=100, bias=True)\n",
      "  (fc2): Linear(in_features=100, out_features=50, bias=True)\n",
      "  (fc3): Linear(in_features=50, out_features=1, bias=True)\n",
      ")\n"
     ]
    }
   ],
   "source": [
    "print(model)"
   ]
  },
  {
   "cell_type": "code",
   "execution_count": 35,
   "metadata": {},
   "outputs": [],
   "source": [
    "import numpy as np\n",
    "import matplotlib.pyplot as plt"
   ]
  },
  {
   "cell_type": "code",
   "execution_count": 36,
   "metadata": {},
   "outputs": [],
   "source": [
    "np.random.seed(42)"
   ]
  },
  {
   "cell_type": "code",
   "execution_count": null,
   "metadata": {},
   "outputs": [],
   "source": []
  },
  {
   "cell_type": "code",
   "execution_count": 37,
   "metadata": {},
   "outputs": [
    {
     "data": {
      "text/plain": [
       "[<matplotlib.lines.Line2D at 0x7f0718270970>]"
      ]
     },
     "execution_count": 37,
     "metadata": {},
     "output_type": "execute_result"
    },
    {
     "data": {
      "image/png": "[encoded data removed]",
      "text/plain": [
       "<Figure size 432x288 with 1 Axes>"
      ]
     },
     "metadata": {
      "needs_background": "light"
     },
     "output_type": "display_data"
    }
   ],
   "source": [
    "x = 2 * np.pi * np.random.random((100, 1))\n",
    "y = np.sin(x)\n",
    "\n",
    "plt.plot(x, y, 'o')\n",
    "plt.xlabel('x')\n",
    "plt.ylabel('y')\n",
    "\n",
    "x_all = np.arange(0, 2*np.pi, 2*np.pi/100).reshape(-1, 1) \n",
    "plt.plot(x_all, np.sin(x_all), 'r')"
   ]
  },
  {
   "cell_type": "code",
   "execution_count": 38,
   "metadata": {},
   "outputs": [],
   "source": [
    "writer = SummaryWriter()\n",
    "\n",
    "writer.add_graph(model, torch.from_numpy(x).float())\n",
    "    \n",
    "writer.close()"
   ]
  },
  {
   "cell_type": "code",
   "execution_count": null,
   "metadata": {},
   "outputs": [],
   "source": []
  },
  {
   "cell_type": "code",
   "execution_count": 39,
   "metadata": {},
   "outputs": [],
   "source": [
    "x_tensor = torch.from_numpy(x).float()\n",
    "y_tensor = torch.from_numpy(y).float()"
   ]
  },
  {
   "cell_type": "code",
   "execution_count": 40,
   "metadata": {},
   "outputs": [],
   "source": [
    "lr = 1e-3\n",
    "n_epochs = 4000"
   ]
  },
  {
   "cell_type": "code",
   "execution_count": 41,
   "metadata": {},
   "outputs": [],
   "source": [
    "loss_fn = nn.MSELoss(reduction='mean')\n",
    "optimazer = optim.SGD(model.parameters(), lr=lr)"
   ]
  },
  {
   "cell_type": "code",
   "execution_count": 42,
   "metadata": {},
   "outputs": [
    {
     "name": "stdout",
     "output_type": "stream",
     "text": [
      "Epoch: 0, Loss: 0.5070521235466003\n",
      "Epoch: 100, Loss: 0.5070521235466003\n",
      "Epoch: 200, Loss: 0.5070521235466003\n",
      "Epoch: 300, Loss: 0.5070521235466003\n",
      "Epoch: 400, Loss: 0.5070521235466003\n",
      "Epoch: 500, Loss: 0.5070521235466003\n",
      "Epoch: 600, Loss: 0.5070521235466003\n",
      "Epoch: 700, Loss: 0.5070521235466003\n",
      "Epoch: 800, Loss: 0.5070521235466003\n",
      "Epoch: 900, Loss: 0.5070521235466003\n",
      "Epoch: 1000, Loss: 0.5070521235466003\n",
      "Epoch: 1100, Loss: 0.5070521235466003\n",
      "Epoch: 1200, Loss: 0.5070521235466003\n",
      "Epoch: 1300, Loss: 0.5070521235466003\n",
      "Epoch: 1400, Loss: 0.5070521235466003\n",
      "Epoch: 1500, Loss: 0.5070521235466003\n",
      "Epoch: 1600, Loss: 0.5070521235466003\n",
      "Epoch: 1700, Loss: 0.5070521235466003\n",
      "Epoch: 1800, Loss: 0.5070521235466003\n",
      "Epoch: 1900, Loss: 0.5070521235466003\n",
      "Epoch: 2000, Loss: 0.5070521235466003\n",
      "Epoch: 2100, Loss: 0.5070521235466003\n",
      "Epoch: 2200, Loss: 0.5070521235466003\n",
      "Epoch: 2300, Loss: 0.5070521235466003\n",
      "Epoch: 2400, Loss: 0.5070521235466003\n",
      "Epoch: 2500, Loss: 0.5070521235466003\n",
      "Epoch: 2600, Loss: 0.5070521235466003\n",
      "Epoch: 2700, Loss: 0.5070521235466003\n",
      "Epoch: 2800, Loss: 0.5070521235466003\n",
      "Epoch: 2900, Loss: 0.5070521235466003\n",
      "Epoch: 3000, Loss: 0.5070521235466003\n",
      "Epoch: 3100, Loss: 0.5070521235466003\n",
      "Epoch: 3200, Loss: 0.5070521235466003\n",
      "Epoch: 3300, Loss: 0.5070521235466003\n",
      "Epoch: 3400, Loss: 0.5070521235466003\n",
      "Epoch: 3500, Loss: 0.5070521235466003\n",
      "Epoch: 3600, Loss: 0.5070521235466003\n",
      "Epoch: 3700, Loss: 0.5070521235466003\n",
      "Epoch: 3800, Loss: 0.5070521235466003\n",
      "Epoch: 3900, Loss: 0.5070521235466003\n"
     ]
    }
   ],
   "source": [
    "for epoch in range(n_epochs):\n",
    "    y_predict = model(x_tensor)\n",
    "    loss = loss_fn(y_tensor, y_predict)\n",
    "    loss.backward()\n",
    "    optimazer.step()\n",
    "    optimazer.zero_grad()\n",
    "    if epoch%100 == 0:\n",
    "        print(f\"Epoch: {epoch}, Loss: {loss.item()}\")"
   ]
  },
  {
   "cell_type": "code",
   "execution_count": null,
   "metadata": {},
   "outputs": [],
   "source": []
  },
  {
   "cell_type": "code",
   "execution_count": null,
   "metadata": {},
   "outputs": [],
   "source": []
  },
  {
   "cell_type": "code",
   "execution_count": 43,
   "metadata": {},
   "outputs": [],
   "source": [
    "!rm -fr runs/\n",
    "x = 2 * np.pi * np.random.random((100, 1))\n",
    "y = np.sin(x)\n",
    "\n",
    "x_tensor = torch.from_numpy(x).float()\n",
    "y_tensor = torch.from_numpy(y).float()\n",
    "\n",
    "lr = 1e-3\n",
    "n_epochs = 4000\n",
    "\n",
    "model = MyNet()\n",
    "\n",
    "loss_fn = nn.MSELoss(reduction='mean')\n",
    "optimazer = optim.SGD(model.parameters(), lr=lr)\n",
    "\n",
    "writer = SummaryWriter()\n",
    "\n",
    "for epoch in range(n_epochs):\n",
    "    y_predict = model(x_tensor)\n",
    "    loss = loss_fn(y_tensor, y_predict)\n",
    "    loss.backward()\n",
    "    optimazer.step()\n",
    "    optimazer.zero_grad()\n",
    "    if epoch%100 == 0:\n",
    "        writer.add_scalar(\"Loss\", loss.item(), epoch)\n",
    "        writer.add_histogram(\"fc1/weights\", model.fc1.weight.data, epoch)\n",
    "        writer.add_histogram(\"fc1/bias\", model.fc1.bias.data, epoch)\n",
    "        writer.add_histogram(\"fc2/weights\", model.fc2.weight.data, epoch)\n",
    "        writer.add_histogram(\"fc2/bias\", model.fc2.bias.data, epoch)\n",
    "        writer.add_histogram(\"fc3/weights\", model.fc3.weight.data, epoch)\n",
    "        writer.add_histogram(\"fc3/bias\", model.fc3.bias.data, epoch)\n",
    "    \n",
    "writer.close()"
   ]
  },
  {
   "cell_type": "code",
   "execution_count": null,
   "metadata": {},
   "outputs": [],
   "source": []
  },
  {
   "cell_type": "code",
   "execution_count": null,
   "metadata": {},
   "outputs": [],
   "source": []
  },
  {
   "cell_type": "code",
   "execution_count": null,
   "metadata": {},
   "outputs": [],
   "source": [
    "writer = SummaryWriter()\n",
    "\n",
    "for batch in range(5):\n",
    "    images, labels = dataiter.next()\n",
    "    img_grid = torchvision.utils.make_grid(images)\n",
    "    writer.add_image(\"Fashion MNIST batch\", img_grid, batch)\n",
    "\n",
    "writer.close()"
   ]
  },
  {
   "cell_type": "code",
   "execution_count": null,
   "metadata": {},
   "outputs": [],
   "source": []
  },
  {
   "cell_type": "code",
   "execution_count": null,
   "metadata": {},
   "outputs": [],
   "source": []
  },
  {
   "cell_type": "code",
   "execution_count": null,
   "metadata": {},
   "outputs": [],
   "source": []
  },
  {
   "cell_type": "code",
   "execution_count": null,
   "metadata": {},
   "outputs": [],
   "source": []
  },
  {
   "cell_type": "code",
   "execution_count": null,
   "metadata": {},
   "outputs": [],
   "source": []
  },
  {
   "cell_type": "code",
   "execution_count": null,
   "metadata": {},
   "outputs": [],
   "source": []
  },
  {
   "cell_type": "code",
   "execution_count": null,
   "metadata": {},
   "outputs": [],
   "source": []
  },
  {
   "cell_type": "code",
   "execution_count": null,
   "metadata": {},
   "outputs": [],
   "source": []
  },
  {
   "cell_type": "code",
   "execution_count": null,
   "metadata": {},
   "outputs": [],
   "source": []
  }
 ],
 "metadata": {
  "kernelspec": {
   "display_name": "Python 3",
   "language": "python",
   "name": "python3"
  },
  "language_info": {
   "codemirror_mode": {
    "name": "ipython",
    "version": 3
   },
   "file_extension": ".py",
   "mimetype": "text/x-python",
   "name": "python",
   "nbconvert_exporter": "python",
   "pygments_lexer": "ipython3",
   "version": "3.8.1"
  }
 },
 "nbformat": 4,
 "nbformat_minor": 4
}
