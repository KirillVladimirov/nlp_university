{
 "cells": [
  {
   "cell_type": "code",
   "execution_count": null,
   "metadata": {},
   "outputs": [],
   "source": [
    "from torch.utils.tensorboard import SummaryWriter\n",
    "writer = SummaryWriter()\n",
    "writer.add_scalar('example', 3)"
   ]
  },
  {
   "cell_type": "code",
   "execution_count": 2,
   "metadata": {},
   "outputs": [],
   "source": [
    "import torch"
   ]
  },
  {
   "cell_type": "code",
   "execution_count": null,
   "metadata": {},
   "outputs": [],
   "source": [
    "import random\n",
    "value = 10\n",
    "writer.add_scalar('test_loop', value, 0)\n",
    "for i in range(1,10000):\n",
    "    value += random.random() - 0.5\n",
    "    writer.add_scalar('test_loop', value, i)"
   ]
  },
  {
   "cell_type": "code",
   "execution_count": null,
   "metadata": {},
   "outputs": [],
   "source": []
  },
  {
   "cell_type": "code",
   "execution_count": null,
   "metadata": {},
   "outputs": [],
   "source": [
    "import torch\n",
    "import torchvision\n",
    "from torch.utils.tensorboard import SummaryWriter\n",
    "from torchvision import datasets, transforms,models\n",
    "\n",
    "writer = SummaryWriter()\n",
    "model = models.resnet18(False)\n",
    "writer.add_graph(model,torch.rand([1,3,224,224]))\n",
    "\n",
    "def train(model, optimizer, loss_fn, train_data_loader, test_data_loader, epochs=20):\n",
    "    model = model.train()\n",
    "    iteration = 0\n",
    "\n",
    "    for epoch in range(epochs):\n",
    "        model.train()\n",
    "        for batch in train_loader:\n",
    "            optimizer.zero_grad()\n",
    "            input, target = batch\n",
    "            output = model(input)\n",
    "            loss = loss_fn(output, target)\n",
    "            writer.add_scalar('loss', loss, epoch)\n",
    "            loss.backward()\n",
    "            optimizer.step()\n",
    "\n",
    "        model.eval()\n",
    "        num_correct = 0\n",
    "        num_examples = 0\n",
    "        for batch in val_loader:\n",
    "            input, target = batch\n",
    "            output = model(input)\n",
    "            correct = torch.eq(torch.max(F.softmax(output), dim=1)[1], target).view(-1)\n",
    "            num_correct += torch.sum(correct).item()\n",
    "            num_examples += correct.shape[0]\n",
    "            print(\"Epoch {}, accuracy = {:.2f}\".format(epoch,\n",
    "                   num_correct / num_examples)\n",
    "            writer.add_scalar('accuracy', num_correct / num_examples, epoch)\n",
    "        iterations += 1"
   ]
  },
  {
   "cell_type": "code",
   "execution_count": null,
   "metadata": {},
   "outputs": [],
   "source": []
  },
  {
   "cell_type": "code",
   "execution_count": null,
   "metadata": {},
   "outputs": [],
   "source": [
    "def print_hook(self, module, input, output):\n",
    "    print(f\"Shape of input is {input.shape}\")\n",
    "\n",
    "model = models.resnet18()\n",
    "hook_ref  = model.fc.register_forward_hook(print_hook)\n",
    "model(torch.rand([1,3,224,224]))\n",
    "hook_ref.remove()\n",
    "model(torch.rand([1,3,224,224]))"
   ]
  },
  {
   "cell_type": "code",
   "execution_count": null,
   "metadata": {},
   "outputs": [],
   "source": []
  },
  {
   "cell_type": "code",
   "execution_count": null,
   "metadata": {},
   "outputs": [],
   "source": [
    "def send_stats(i, module, input, output):\n",
    "    writer.add_scalar(f\"{i}-mean\",output.data.std())\n",
    "    writer.add_scalar(f\"{i}-stddev\",output.data.std())"
   ]
  },
  {
   "cell_type": "code",
   "execution_count": null,
   "metadata": {},
   "outputs": [],
   "source": []
  },
  {
   "cell_type": "code",
   "execution_count": null,
   "metadata": {},
   "outputs": [],
   "source": [
    "from functools import partial\n",
    "\n",
    "for i,m in enumerate(model.children()):\n",
    "    m.register_forward_hook(partial(send_stats, i))"
   ]
  },
  {
   "cell_type": "code",
   "execution_count": null,
   "metadata": {},
   "outputs": [],
   "source": []
  },
  {
   "cell_type": "code",
   "execution_count": null,
   "metadata": {},
   "outputs": [],
   "source": [
    "class SaveActivations():\n",
    "    activations=None\n",
    "    def __init__(self, m):\n",
    "        self.hook = m.register_forward_hook(self.hook_fn)\n",
    "    def hook_fn(self, module, input, output):\n",
    "        self.features = output.data\n",
    "    def remove(self):\n",
    "        self.hook.remove()"
   ]
  },
  {
   "cell_type": "code",
   "execution_count": null,
   "metadata": {},
   "outputs": [],
   "source": []
  },
  {
   "cell_type": "code",
   "execution_count": null,
   "metadata": {},
   "outputs": [],
   "source": [
    "import torch\n",
    "from torchvision import models, transforms\n",
    "from torch.nn import functional as F\n",
    "\n",
    "casper = Image.open(\"casper.jpg\")\n",
    "# Imagenet mean/std\n",
    "\n",
    "normalize = transforms.Normalize(\n",
    "   mean=[0.485, 0.456, 0.406],\n",
    "   std=[0.229, 0.224, 0.225]\n",
    ")\n",
    "\n",
    "preprocess = transforms.Compose([\n",
    "   transforms.Resize((224,224)),\n",
    "   transforms.ToTensor(),\n",
    "   normalize\n",
    "])\n",
    "\n",
    "display_transform = transforms.Compose([\n",
    "   transforms.Resize((224,224))])\n",
    "\n",
    "casper_tensor = preprocess(casper)\n",
    "\n",
    "model = models.resnet18(pretrained=True)\n",
    "model.eval()\n",
    "casper_activations = SaveActivations(model.layer_4)\n",
    "prediction = model(casper_tensor.unsqueeze(0))\n",
    "pred_probabilities = F.softmax(prediction).data.squeeze()\n",
    "casper_activations.remove()\n",
    "torch.topk(pred_probabilities,1)"
   ]
  },
  {
   "cell_type": "code",
   "execution_count": null,
   "metadata": {},
   "outputs": [],
   "source": []
  },
  {
   "cell_type": "code",
   "execution_count": null,
   "metadata": {},
   "outputs": [],
   "source": [
    "fts = sf[0].features[idx]\n",
    "        prob = np.exp(to_np(log_prob))\n",
    "        preds = np.argmax(prob[idx])\n",
    "        fts_np = to_np(fts)\n",
    "        f2=np.dot(np.rollaxis(fts_np,0,3), prob[idx])\n",
    "        f2-=f2.min()\n",
    "        f2/=f2.max()\n",
    "        f2\n",
    "plt.imshow(dx)\n",
    "plt.imshow(scipy.misc.imresize(f2, dx.shape), alpha=0.5, cmap='jet');"
   ]
  },
  {
   "cell_type": "code",
   "execution_count": null,
   "metadata": {},
   "outputs": [],
   "source": []
  },
  {
   "cell_type": "code",
   "execution_count": null,
   "metadata": {},
   "outputs": [],
   "source": [
    "import torch\n",
    "import torchvision\n",
    "\n",
    "def get_model():\n",
    "    return torchvision.models.resnet18(pretrained=True)\n",
    "\n",
    "def get_pred(model):\n",
    "    return model(torch.rand([1,3,224,224]))\n",
    "\n",
    "model = get_model()\n",
    "\n",
    "for i in range(1,10000):\n",
    "    get_pred(model)"
   ]
  },
  {
   "cell_type": "code",
   "execution_count": null,
   "metadata": {},
   "outputs": [],
   "source": []
  },
  {
   "cell_type": "code",
   "execution_count": null,
   "metadata": {},
   "outputs": [],
   "source": [
    "import torch\n",
    "import torchvision\n",
    "from torch import optim\n",
    "import torch.nn as nn\n",
    "from torchvision import datasets, transforms, models\n",
    "import torch.utils.data\n",
    "from PIL import Image\n",
    "import numpy as np\n",
    "\n",
    "device = \"cuda:0\"\n",
    "model = models.resnet18(pretrained=True)\n",
    "model.to(device)\n",
    "\n",
    "\n",
    "class BadRandom(object):\n",
    "    def __call__(self, img):\n",
    "        img_np = np.array(img)\n",
    "        random = np.random.random_sample(img_np.shape)\n",
    "        out_np = img_np + random\n",
    "        out = Image.fromarray(out_np.astype('uint8'), 'RGB')\n",
    "        return out\n",
    "\n",
    "    def __repr__(self):\n",
    "        str = f\"{self.__class__.__name__  }\"\n",
    "        return str\n",
    "\n",
    "train_data_path = \"catfish/train\"\n",
    "image_transforms =\n",
    "torchvision.transforms.Compose(\n",
    "  [transforms.Resize((224,224)),BadRandom(), transforms.ToTensor()])"
   ]
  },
  {
   "cell_type": "code",
   "execution_count": null,
   "metadata": {},
   "outputs": [],
   "source": []
  },
  {
   "cell_type": "code",
   "execution_count": null,
   "metadata": {},
   "outputs": [],
   "source": [
    "train_data = torchvision.datasets.ImageFolder(root=train_data_path,\n",
    "transform=image_transforms)\n",
    "batch_size=32\n",
    "train_data_loader = torch.utils.data.DataLoader(train_data,\n",
    "batch_size=batch_size)\n",
    "\n",
    "optimizer = optim.Adam(model.parameters(), lr=2e-2)\n",
    "criterion = nn.CrossEntropyLoss()\n",
    "\n",
    "def train(model, optimizer, loss_fn,  train_loader, val_loader,\n",
    "epochs=20, device='cuda:0'):\n",
    "    model.to(device)\n",
    "    for epoch in range(epochs):\n",
    "        print(f\"epoch {epoch}\")\n",
    "        model.train()\n",
    "        for batch in train_loader:\n",
    "            optimizer.zero_grad()\n",
    "            ww, target = batch\n",
    "            ww = ww.to(device)\n",
    "            target= target.to(device)\n",
    "            output = model(ww)\n",
    "            loss = loss_fn(output, target)\n",
    "            loss.backward()\n",
    "            optimizer.step()\n",
    "\n",
    "        model.eval()\n",
    "        num_correct = 0\n",
    "        num_examples = 0\n",
    "        for batch in val_loader:\n",
    "            input, target = batch\n",
    "            input = input.to(device)\n",
    "            target= target.to(device)\n",
    "            output = model(input)\n",
    "            correct = torch.eq(torch.max(output, dim=1)[1], target).view(-1)\n",
    "            num_correct += torch.sum(correct).item()\n",
    "            num_examples += correct.shape[0]\n",
    "        print(\"Epoch {}, accuracy = {:.2f}\"\n",
    "        .format(epoch, num_correct / num_examples))\n",
    "\n",
    "train(model,optimizer,criterion,\n",
    "train_data_loader,train_data_loader,epochs=10)"
   ]
  },
  {
   "cell_type": "code",
   "execution_count": null,
   "metadata": {},
   "outputs": [],
   "source": []
  },
  {
   "cell_type": "code",
   "execution_count": null,
   "metadata": {},
   "outputs": [],
   "source": []
  },
  {
   "cell_type": "code",
   "execution_count": null,
   "metadata": {},
   "outputs": [],
   "source": []
  },
  {
   "cell_type": "code",
   "execution_count": 3,
   "metadata": {},
   "outputs": [
    {
     "name": "stdout",
     "output_type": "stream",
     "text": [
      "4.94 ms ± 34.9 µs per loop (mean ± std. dev. of 7 runs, 100 loops each)\n"
     ]
    }
   ],
   "source": [
    "cpu_t1 = torch.rand(64,3,224,224)\n",
    "cpu_t2 = torch.rand(64,3,224,224)\n",
    "%timeit cpu_t1 + cpu_t2"
   ]
  },
  {
   "cell_type": "code",
   "execution_count": 4,
   "metadata": {},
   "outputs": [
    {
     "name": "stdout",
     "output_type": "stream",
     "text": [
      "561 µs ± 11.1 µs per loop (mean ± std. dev. of 7 runs, 10000 loops each)\n"
     ]
    }
   ],
   "source": [
    "gpu_t1 = torch.rand(64,3,224,224).to(\"cuda\")\n",
    "gpu_t2 = torch.rand(64,3,224,224).to(\"cuda\")\n",
    "%timeit gpu_t1 + gpu_t2"
   ]
  },
  {
   "cell_type": "code",
   "execution_count": null,
   "metadata": {},
   "outputs": [],
   "source": []
  },
  {
   "cell_type": "code",
   "execution_count": 5,
   "metadata": {},
   "outputs": [
    {
     "data": {
      "text/plain": [
       "72"
      ]
     },
     "execution_count": 5,
     "metadata": {},
     "output_type": "execute_result"
    }
   ],
   "source": [
    "import gc\n",
    "del gpu_t1\n",
    "del gpu_t2\n",
    "gc.collect()"
   ]
  },
  {
   "cell_type": "code",
   "execution_count": null,
   "metadata": {},
   "outputs": [],
   "source": []
  },
  {
   "cell_type": "code",
   "execution_count": null,
   "metadata": {},
   "outputs": [],
   "source": [
    "nvidia-smi --query-gpu=timestamp,memory.used,memory.free,memory.total,utilization.gpu --format=csv -l 5"
   ]
  },
  {
   "cell_type": "code",
   "execution_count": null,
   "metadata": {},
   "outputs": [],
   "source": []
  },
  {
   "cell_type": "code",
   "execution_count": null,
   "metadata": {},
   "outputs": [],
   "source": [
    "from torch.utils.checkpoint import checkpoint_sequential\n",
    "import torch.nn as nn\n",
    "\n",
    "class CheckpointedAlexNet(nn.Module):\n",
    "\n",
    "    def __init__(self, num_classes=1000, chunks=2):\n",
    "        super(CheckpointedAlexNet, self).__init__()\n",
    "        self.features = nn.Sequential(\n",
    "            nn.Conv2d(3, 64, kernel_size=11, stride=4, padding=2),\n",
    "            nn.ReLU(inplace=True),\n",
    "            nn.MaxPool2d(kernel_size=3, stride=2),\n",
    "            nn.Conv2d(64, 192, kernel_size=5, padding=2),\n",
    "            nn.ReLU(inplace=True),\n",
    "            nn.MaxPool2d(kernel_size=3, stride=2),\n",
    "            nn.Conv2d(192, 384, kernel_size=3, padding=1),\n",
    "            nn.ReLU(inplace=True),\n",
    "            nn.Conv2d(384, 256, kernel_size=3, padding=1),\n",
    "            nn.ReLU(inplace=True),\n",
    "            nn.Conv2d(256, 256, kernel_size=3, padding=1),\n",
    "            nn.ReLU(inplace=True),\n",
    "            nn.MaxPool2d(kernel_size=3, stride=2),\n",
    "        )\n",
    "        self.avgpool = nn.AdaptiveAvgPool2d((6, 6))\n",
    "        self.classifier = nn.Sequential(\n",
    "            nn.Dropout(),\n",
    "            nn.Linear(256 * 6 * 6, 4096),\n",
    "            nn.ReLU(inplace=True),\n",
    "            nn.Dropout(),\n",
    "            nn.Linear(4096, 4096),\n",
    "            nn.ReLU(inplace=True),\n",
    "            nn.Linear(4096, num_classes),\n",
    "        )\n",
    "\n",
    "    def forward(self, x):\n",
    "        x = checkpoint_sequential(self.features, chunks, x)\n",
    "        x = self.avgpool(x)\n",
    "        x = x.view(x.size(0), 256 * 6 * 6)\n",
    "        x = self.classifier(x)\n",
    "        return x"
   ]
  },
  {
   "cell_type": "code",
   "execution_count": null,
   "metadata": {},
   "outputs": [],
   "source": []
  },
  {
   "cell_type": "code",
   "execution_count": null,
   "metadata": {},
   "outputs": [],
   "source": []
  },
  {
   "cell_type": "code",
   "execution_count": null,
   "metadata": {},
   "outputs": [],
   "source": []
  },
  {
   "cell_type": "code",
   "execution_count": null,
   "metadata": {},
   "outputs": [],
   "source": []
  },
  {
   "cell_type": "code",
   "execution_count": null,
   "metadata": {},
   "outputs": [],
   "source": []
  },
  {
   "cell_type": "code",
   "execution_count": null,
   "metadata": {},
   "outputs": [],
   "source": []
  },
  {
   "cell_type": "code",
   "execution_count": null,
   "metadata": {},
   "outputs": [],
   "source": []
  },
  {
   "cell_type": "code",
   "execution_count": null,
   "metadata": {},
   "outputs": [],
   "source": []
  },
  {
   "cell_type": "code",
   "execution_count": null,
   "metadata": {},
   "outputs": [],
   "source": []
  },
  {
   "cell_type": "code",
   "execution_count": null,
   "metadata": {},
   "outputs": [],
   "source": []
  },
  {
   "cell_type": "code",
   "execution_count": null,
   "metadata": {},
   "outputs": [],
   "source": []
  }
 ],
 "metadata": {
  "kernelspec": {
   "display_name": "Python 3",
   "language": "python",
   "name": "python3"
  },
  "language_info": {
   "codemirror_mode": {
    "name": "ipython",
    "version": 3
   },
   "file_extension": ".py",
   "mimetype": "text/x-python",
   "name": "python",
   "nbconvert_exporter": "python",
   "pygments_lexer": "ipython3",
   "version": "3.8.1"
  }
 },
 "nbformat": 4,
 "nbformat_minor": 4
}
