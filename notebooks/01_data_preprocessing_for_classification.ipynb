{
 "cells": [
  {
   "cell_type": "code",
   "execution_count": 1,
   "metadata": {},
   "outputs": [],
   "source": [
    "%load_ext autoreload\n",
    "%autoreload 2\n",
    "\n",
    "%matplotlib inline"
   ]
  },
  {
   "cell_type": "code",
   "execution_count": 2,
   "metadata": {},
   "outputs": [],
   "source": [
    "import warnings\n",
    "warnings.filterwarnings(\"ignore\")\n",
    "import pandas as pd\n",
    "import numpy as np\n",
    "import re\n",
    "import pymorphy2"
   ]
  },
  {
   "cell_type": "markdown",
   "metadata": {},
   "source": [
    "### Data preprocessing"
   ]
  },
  {
   "cell_type": "code",
   "execution_count": 3,
   "metadata": {},
   "outputs": [],
   "source": [
    "seed = 42\n",
    "positive_file = \"../data/positive.csv\"\n",
    "negative_file = \"../data/negative.csv\""
   ]
  },
  {
   "cell_type": "code",
   "execution_count": 4,
   "metadata": {},
   "outputs": [],
   "source": [
    "np.random.seed(seed)"
   ]
  },
  {
   "cell_type": "markdown",
   "metadata": {},
   "source": [
    "База данных состоит из 12 столбцов:\n",
    "\n",
    "1. id: уникальный номер сообщения в системе twitter;\n",
    "2. tdate: дата публикации сообщения (твита);\n",
    "3. tmane: имя пользователя, опубликовавшего сообщение;\n",
    "4. ttext:  текст сообщения (твита);\n",
    "5. ttype: поле в котором в дальнейшем будет указано к кому классу относится твит (положительный, отрицательный, нейтральный);\n",
    "6. trep: количество реплаев к данному сообщению. В настоящий момент API твиттера не отдает эту информацию;\n",
    "7. trtw: число ретвитов\n",
    "8. tfav: число сколько раз данное сообщение было добавлено в избранное другими пользователями;\n",
    "9. tstcount: число всех сообщений пользователя в сети twitter;\n",
    "10. tfoll: количество фоловеров пользователя (тех людей, которые читают пользователя);\n",
    "11. tfrien: количество друзей пользователя (те люди, которых читает пользователь);\n",
    "12. listcount: количество листов-подписок в которые добавлен твиттер-пользователь."
   ]
  },
  {
   "cell_type": "code",
   "execution_count": 5,
   "metadata": {},
   "outputs": [],
   "source": [
    "column_names = [\"id\", \"tdate\", \"tmane\", \"ttext\", \"ttype\", \"trep\", \"trtw\", \"tfav\", \"tstcount\", \"tfoll\", \"tfrien\", \"listcount\"]\n",
    "positive_df = pd.read_csv(positive_file, sep=\";\", names=column_names, index_col=False)\n",
    "negative_df = pd.read_csv(negative_file, sep=\";\", names=column_names, index_col=False)"
   ]
  },
  {
   "cell_type": "code",
   "execution_count": 6,
   "metadata": {},
   "outputs": [
    {
     "data": {
      "text/html": [
       "<div>\n",
       "<style scoped>\n",
       "    .dataframe tbody tr th:only-of-type {\n",
       "        vertical-align: middle;\n",
       "    }\n",
       "\n",
       "    .dataframe tbody tr th {\n",
       "        vertical-align: top;\n",
       "    }\n",
       "\n",
       "    .dataframe thead th {\n",
       "        text-align: right;\n",
       "    }\n",
       "</style>\n",
       "<table border=\"1\" class=\"dataframe\">\n",
       "  <thead>\n",
       "    <tr style=\"text-align: right;\">\n",
       "      <th></th>\n",
       "      <th>id</th>\n",
       "      <th>tdate</th>\n",
       "      <th>tmane</th>\n",
       "      <th>ttext</th>\n",
       "      <th>ttype</th>\n",
       "      <th>trep</th>\n",
       "      <th>trtw</th>\n",
       "      <th>tfav</th>\n",
       "      <th>tstcount</th>\n",
       "      <th>tfoll</th>\n",
       "      <th>tfrien</th>\n",
       "      <th>listcount</th>\n",
       "    </tr>\n",
       "  </thead>\n",
       "  <tbody>\n",
       "    <tr>\n",
       "      <th>0</th>\n",
       "      <td>408906692374446080</td>\n",
       "      <td>1386325927</td>\n",
       "      <td>pleease_shut_up</td>\n",
       "      <td>@first_timee хоть я и школота, но поверь, у на...</td>\n",
       "      <td>1</td>\n",
       "      <td>0</td>\n",
       "      <td>0</td>\n",
       "      <td>0</td>\n",
       "      <td>7569</td>\n",
       "      <td>62</td>\n",
       "      <td>61</td>\n",
       "      <td>0</td>\n",
       "    </tr>\n",
       "    <tr>\n",
       "      <th>1</th>\n",
       "      <td>408906692693221377</td>\n",
       "      <td>1386325927</td>\n",
       "      <td>alinakirpicheva</td>\n",
       "      <td>Да, все-таки он немного похож на него. Но мой ...</td>\n",
       "      <td>1</td>\n",
       "      <td>0</td>\n",
       "      <td>0</td>\n",
       "      <td>0</td>\n",
       "      <td>11825</td>\n",
       "      <td>59</td>\n",
       "      <td>31</td>\n",
       "      <td>2</td>\n",
       "    </tr>\n",
       "    <tr>\n",
       "      <th>2</th>\n",
       "      <td>408906695083954177</td>\n",
       "      <td>1386325927</td>\n",
       "      <td>EvgeshaRe</td>\n",
       "      <td>RT @KatiaCheh: Ну ты идиотка) я испугалась за ...</td>\n",
       "      <td>1</td>\n",
       "      <td>0</td>\n",
       "      <td>1</td>\n",
       "      <td>0</td>\n",
       "      <td>1273</td>\n",
       "      <td>26</td>\n",
       "      <td>27</td>\n",
       "      <td>0</td>\n",
       "    </tr>\n",
       "    <tr>\n",
       "      <th>3</th>\n",
       "      <td>408906695356973056</td>\n",
       "      <td>1386325927</td>\n",
       "      <td>ikonnikova_21</td>\n",
       "      <td>RT @digger2912: \"Кто то в углу сидит и погибае...</td>\n",
       "      <td>1</td>\n",
       "      <td>0</td>\n",
       "      <td>1</td>\n",
       "      <td>0</td>\n",
       "      <td>1549</td>\n",
       "      <td>19</td>\n",
       "      <td>17</td>\n",
       "      <td>0</td>\n",
       "    </tr>\n",
       "    <tr>\n",
       "      <th>4</th>\n",
       "      <td>408906761416867842</td>\n",
       "      <td>1386325943</td>\n",
       "      <td>JumpyAlex</td>\n",
       "      <td>@irina_dyshkant Вот что значит страшилка :D\\nН...</td>\n",
       "      <td>1</td>\n",
       "      <td>0</td>\n",
       "      <td>0</td>\n",
       "      <td>0</td>\n",
       "      <td>597</td>\n",
       "      <td>16</td>\n",
       "      <td>23</td>\n",
       "      <td>1</td>\n",
       "    </tr>\n",
       "  </tbody>\n",
       "</table>\n",
       "</div>"
      ],
      "text/plain": [
       "                   id       tdate            tmane  \\\n",
       "0  408906692374446080  1386325927  pleease_shut_up   \n",
       "1  408906692693221377  1386325927  alinakirpicheva   \n",
       "2  408906695083954177  1386325927        EvgeshaRe   \n",
       "3  408906695356973056  1386325927    ikonnikova_21   \n",
       "4  408906761416867842  1386325943        JumpyAlex   \n",
       "\n",
       "                                               ttext  ttype  trep  trtw  tfav  \\\n",
       "0  @first_timee хоть я и школота, но поверь, у на...      1     0     0     0   \n",
       "1  Да, все-таки он немного похож на него. Но мой ...      1     0     0     0   \n",
       "2  RT @KatiaCheh: Ну ты идиотка) я испугалась за ...      1     0     1     0   \n",
       "3  RT @digger2912: \"Кто то в углу сидит и погибае...      1     0     1     0   \n",
       "4  @irina_dyshkant Вот что значит страшилка :D\\nН...      1     0     0     0   \n",
       "\n",
       "   tstcount  tfoll  tfrien  listcount  \n",
       "0      7569     62      61          0  \n",
       "1     11825     59      31          2  \n",
       "2      1273     26      27          0  \n",
       "3      1549     19      17          0  \n",
       "4       597     16      23          1  "
      ]
     },
     "execution_count": 6,
     "metadata": {},
     "output_type": "execute_result"
    }
   ],
   "source": [
    "positive_df.head()"
   ]
  },
  {
   "cell_type": "code",
   "execution_count": 7,
   "metadata": {},
   "outputs": [],
   "source": [
    "# Смена метки класса для отрицательной эмоциональной окраски\n",
    "negative_df[\"ttype\"] = 0"
   ]
  },
  {
   "cell_type": "code",
   "execution_count": 8,
   "metadata": {},
   "outputs": [
    {
     "data": {
      "text/plain": [
       "((226834, 12), (111923, 12), (114911, 12))"
      ]
     },
     "execution_count": 8,
     "metadata": {},
     "output_type": "execute_result"
    }
   ],
   "source": [
    "df = pd.concat([negative_df, positive_df])\n",
    "df.shape, negative_df.shape, positive_df.shape"
   ]
  },
  {
   "cell_type": "code",
   "execution_count": 9,
   "metadata": {},
   "outputs": [],
   "source": [
    "df = df[[\"ttext\", \"ttype\"]]\n",
    "df.columns = ['text', 'target']"
   ]
  },
  {
   "cell_type": "code",
   "execution_count": 10,
   "metadata": {},
   "outputs": [
    {
     "data": {
      "text/plain": [
       "['на работе был полный пиддес :| и так каждое закрытие месяца, я же свихнусь так D:',\n",
       " 'Коллеги сидят рубятся в Urban terror, а я из-за долбанной винды не могу :(',\n",
       " '@elina_4post как говорят обещаного три года ждут...((',\n",
       " 'Желаю хорошего полёта и удачной посадки,я буду очень сильно скучать( http://t.co/jCLNzVNv3S',\n",
       " 'Обновил за каким-то лешим surf, теперь не работает простоплеер :(',\n",
       " 'Котёнка вчера носик разбила, плакала и расстраивалась :(',\n",
       " '@juliamayko @O_nika55 @and_Possum Зашли, а то он опять затихарился, я прямо физически страдаю, когда он долго молчит!(((',\n",
       " 'а вообще я не болею -  я не выздоравливаю :(',\n",
       " 'я микрофраза :( учимся срать кирпичами в режиме &amp;quot;нон-стоп&amp;quot; @niwoqisipapy',\n",
       " 'я хочу с тобой помириться , но сука я гордая и никогда этого не сделаю! (((',\n",
       " '@DNO_OKEANA_A3A3 @MOE_MOPE_A3A3 тебя ебет какие у меня фотки.я про твои молчу.и вообще ты хоть знаешь как ТП то выглядят...',\n",
       " 'Блин начали сниться сны( Не когда почти не снились ! А теперь можно сказать каждый день такое ! Мне это не нравиться ((((((((((',\n",
       " '@realVold На твоем месте, я бы сначала телек купил бы(',\n",
       " '@faraonbgr111 плохо боишься значит(( ты где? В мск бгр?',\n",
       " 'А я хотела... электромобиль =(\\nhttp://t.co/vgs9JeUPHz',\n",
       " 'Скоро увижу твои зеленые глаза в последний раз(((',\n",
       " 'Вот это да, докатился,по-оранжевел патриот! Чо деется? :(( RT @SapelSV: #Бабки объединят #КПРФ и Навального? http://t.co/kyJk4A79kv',\n",
       " 'Ну уже 12:25 ночииии:(((( а я ничего не сделалаллалалалалалалвцмдэмппдпктцдкиицкп',\n",
       " '@190299der я очень рада,но ты им разобьешь сердца:(\\nМне их  жалко епт\\nмне оч жалко Влада\\nА всех остальных нет\\n',\n",
       " 'Сегодня какой-то нехороший день у меня :-( Телефон наушники не опознает, у блога как-то умудрился шаблон сломать, да еще',\n",
       " 'думаю,на моем веку почта россии не поднимется со дна (((',\n",
       " 'Мне одному   напоминает дом-2? Путин делает реалити-шоу? O_o',\n",
       " 'ебааааа сейчас модуль будет по региональной экономике ((',\n",
       " '@kordalona_mars оооууу ты меня анфолловил чувак((',\n",
       " 'вот так я встречаю зиму:(( http://t.co/FjivXAGcR9',\n",
       " '@Kyo_oppa ну вот, туда медведь прикреплялся.',\n",
       " 'чорт... хотела сходить в кино...  придется любоваться фильмом в уг качестве на компе(',\n",
       " 'RT @arinaaaaonskul: Так плохо я себя не чувствовала давно :( ',\n",
       " 'Как понизить температуру ноута? Снаружи +30, так что он постоянно раскалённый :(',\n",
       " '@Anastasia_pain думаешь упаду со стула? :(',\n",
       " '@Deniska_perm да нет, но условия будут более спартанские :(',\n",
       " 'Хотела маме сделать сюрприз, как всегда все навернулось(',\n",
       " 'я блин сутками его жду а он с друзьями общаться! с которыми ежедневно видится! :(',\n",
       " '@Annya_Nik @YankaMurygina Так и думал:( \\nНе судьба походу попасть к мастерам',\n",
       " 'RT @davidmsk: У берегов Коста-Рики водятся 1600 видов рыб. А на берег выходят черепахи весом до 500 кг. Но я не видел :( http://t.co/9ixMBH…',\n",
       " '\"@lisi_Ca: @maybe_reg49_27 @One_ENCLAVE @LyudaLa самая смешная из лисичек - тибетская. Это не фотошоп http://t.co/kDDYZartwl\" о_О',\n",
       " 'Потеряла креапления от борда. Как так! Я же их не снимала(',\n",
       " 'RT @Ksenyamalischev: Устала от семинара;(',\n",
       " 'Опять простыла....!!!;(Все гуляют,катают,тусуют,а я!;(((Что за невезение!!!',\n",
       " '@1libertad первые деньги пойдут на красные мокасины, потом на ремень гермес, потом на приору, а потом уже можно умереть :-/']"
      ]
     },
     "execution_count": 10,
     "metadata": {},
     "output_type": "execute_result"
    }
   ],
   "source": [
    "df[\"text\"].tolist()[:40]"
   ]
  },
  {
   "cell_type": "code",
   "execution_count": null,
   "metadata": {},
   "outputs": [],
   "source": []
  },
  {
   "cell_type": "markdown",
   "metadata": {},
   "source": [
    "### Стадии очистки текста:\n",
    "1. Приведение к нижниму регистру\n",
    "2. Замена буквы \"ё\" на \"е\"\n",
    "3. Удаление цифр\n",
    "4. Удаление HTML специальных символов\n",
    "5. Замена упоминаний пользователей @username на тег at_user\n",
    "6. Замена символа хештега # на тег hash\n",
    "7. Удаление RT\n",
    "8. Замена гиперссылок на тег url\n",
    "\n"
   ]
  },
  {
   "cell_type": "markdown",
   "metadata": {},
   "source": [
    "В работе \"Sentiment Analysis of Posts and Comments in the Accounts of Russian Politicians on the Social Network\"\n",
    "в разделе \"III. DATA AND METHODOLOGY\" рассматривается стадия распознования смайликов в последовательностях пунктуации \n",
    "и замену их на теги соответствующих смайлов. Это уменьшит \"шум\", создоваемый черезмерным употреблением символов пунктуации\n",
    "\n",
    "Для простоты, я не стал удалять знаки пунктуации."
   ]
  },
  {
   "cell_type": "code",
   "execution_count": 11,
   "metadata": {},
   "outputs": [],
   "source": [
    "def preprocess_text(text):\n",
    "    text = text.lower().replace(\"ё\", \"е\")\n",
    "    # Remove digits\n",
    "    text = re.sub(\"\\d+:\\d+\", \" \", text)\n",
    "    text = re.sub(\" \\d+\", \" \", text)\n",
    "    # Removing ;quot; and &amp\n",
    "    text = re.sub(';quot;', ' ', text) \n",
    "    text = re.sub('&amp', ' ', text) \n",
    "    # Remove HTML special entities \n",
    "    text = re.sub(r'\\&\\w*;', ' ', text)\n",
    "    #Convert @username to AT_USER\n",
    "    text = re.sub('@[^\\s]+','at_user', text)\n",
    "    # Remove whitespace (including new line characters)\n",
    "    text = re.sub(r'\\s\\s+', ' ', text)\n",
    "    # Removing '#' hash tag\n",
    "    text = re.sub('#', 'hash ', text) \n",
    "    # Removing RT\n",
    "    text = re.sub('rt[\\s]+', '', text) \n",
    "    # Removing hyperlink\n",
    "    text = re.sub('https?:\\/\\/\\S+', 'url', text)\n",
    "    # Separate words and punctuation\n",
    "    text = re.findall(r\"[\\w']+|[.,!?;:()]\", text)\n",
    "    text = \" \".join(text)\n",
    "    return text"
   ]
  },
  {
   "cell_type": "code",
   "execution_count": 12,
   "metadata": {},
   "outputs": [],
   "source": [
    "# Clean the tweets\n",
    "df['text'] = df['text'].apply(preprocess_text)"
   ]
  },
  {
   "cell_type": "code",
   "execution_count": 13,
   "metadata": {},
   "outputs": [
    {
     "data": {
      "text/plain": [
       "['на работе был полный пиддес : и так каждое закрытие месяца , я же свихнусь так d :',\n",
       " 'коллеги сидят рубятся в urban terror , а я из за долбанной винды не могу : (',\n",
       " 'at_user как говорят обещаного три года ждут . . . ( (',\n",
       " 'желаю хорошего полета и удачной посадки , я буду очень сильно скучать ( url',\n",
       " 'обновил за каким то лешим surf , теперь не работает простоплеер : (',\n",
       " 'котенка вчера носик разбила , плакала и расстраивалась : (',\n",
       " 'at_user at_user at_user зашли , а то он опять затихарился , я прямо физически страдаю , когда он долго молчит ! ( ( (',\n",
       " 'а вообще я не болею я не выздоравливаю : (',\n",
       " 'я микрофраза : ( учимся срать кирпичами в режиме нон стоп at_user',\n",
       " 'я хочу с тобой помириться , но сука я гордая и никогда этого не сделаю ! ( ( (',\n",
       " 'at_user at_user тебя ебет какие у меня фотки . я про твои молчу . и вообще ты хоть знаешь как тп то выглядят . . .',\n",
       " 'блин начали сниться сны ( не когда почти не снились ! а теперь можно сказать каждый день такое ! мне это не нравиться ( ( ( ( ( ( ( ( ( (',\n",
       " 'at_user на твоем месте , я бы сначала телек купил бы (',\n",
       " 'at_user плохо боишься значит ( ( ты где ? в мск бгр ?',\n",
       " 'а я хотела . . . электромобиль ( url',\n",
       " 'скоро увижу твои зеленые глаза в последний раз ( ( (',\n",
       " 'вот это да , докатился , по оранжевел патриот ! чо деется ? : ( ( at_user hash бабки объединят hash кпрф и навального ? url',\n",
       " 'ну уже ночииии : ( ( ( ( а я ничего не сделалаллалалалалалалвцмдэмппдпктцдкиицкп',\n",
       " 'at_user я очень рада , но ты им разобьешь сердца : ( мне их жалко епт мне оч жалко влада а всех остальных нет',\n",
       " 'сегодня какой то нехороший день у меня : ( телефон наушники не опознает , у блога как то умудрился шаблон сломать , да еще',\n",
       " 'думаю , на моем веку почта россии не поднимется со дна ( ( (',\n",
       " 'мне одному напоминает дом 2 ? путин делает реалити шоу ? o_o',\n",
       " 'ебааааа сейчас модуль будет по региональной экономике ( (',\n",
       " 'at_user оооууу ты меня анфолловил чувак ( (',\n",
       " 'вот так я встречаю зиму : ( ( url',\n",
       " 'at_user ну вот , туда медведь прикреплялся .',\n",
       " 'чорт . . . хотела сходить в кино . . . придется любоваться фильмом в уг качестве на компе (',\n",
       " 'at_user так плохо я себя не чувствовала давно : (',\n",
       " 'как понизить температуру ноута ? снаружи 30 , так что он постоянно раскаленный : (',\n",
       " 'at_user думаешь упаду со стула ? : (',\n",
       " 'at_user да нет , но условия будут более спартанские : (',\n",
       " 'хотела маме сделать сюрприз , как всегда все навернулось (',\n",
       " 'я блин сутками его жду а он с друзьями общаться ! с которыми ежедневно видится ! : (',\n",
       " 'at_user at_user так и думал : ( не судьба походу попасть к мастерам',\n",
       " 'at_user у берегов коста рики водятся видов рыб . а на берег выходят черепахи весом до кг . но я не видел : ( url',\n",
       " 'at_user at_user at_user at_user самая смешная из лисичек тибетская . это не фотошоп url о_о',\n",
       " 'потеряла креапления от борда . как так ! я же их не снимала (',\n",
       " 'at_user устала от семинара ; (',\n",
       " 'опять простыла . . . . ! ! ! ; ( все гуляют , катают , тусуют , а я ! ; ( ( ( что за невезение ! ! !',\n",
       " 'at_user первые деньги пойдут на красные мокасины , потом на ремень гермес , потом на приору , а потом уже можно умереть :']"
      ]
     },
     "execution_count": 13,
     "metadata": {},
     "output_type": "execute_result"
    }
   ],
   "source": [
    "df[\"text\"].tolist()[:40]"
   ]
  },
  {
   "cell_type": "code",
   "execution_count": null,
   "metadata": {},
   "outputs": [],
   "source": []
  },
  {
   "cell_type": "markdown",
   "metadata": {},
   "source": [
    "### Лемматизация"
   ]
  },
  {
   "cell_type": "markdown",
   "metadata": {},
   "source": [
    "Использую лемматизатор от pymorphy2. Он не снимает омонимию, так как обрабатывате каждое сло по отдельности.\n",
    "Для обычных текстов я бы использовал pymystem3. Он обрабатывает предложения целиком и способен различить разные слова с одинаковым написанием."
   ]
  },
  {
   "cell_type": "code",
   "execution_count": 14,
   "metadata": {},
   "outputs": [],
   "source": [
    "cache = {}\n",
    "morph = pymorphy2.MorphAnalyzer()\n",
    "\n",
    "def lemmatize(text):\n",
    "    words = []\n",
    "    for token in text.split():\n",
    "        # Если токен уже был закеширован, быстро возьмем результат из кэша.\n",
    "        if token in cache.keys():\n",
    "            words.append(cache[token])\n",
    "        # Слово еще не встретилось, будем проводить медленный морфологический анализ.\n",
    "        else:\n",
    "            result = morph.parse(token)   \n",
    "            word = result[0].normal_form\n",
    "            # Отправляем слово в результат, ...\n",
    "            words.append(word)\n",
    "            # ... и кешируем результат его разбора.\n",
    "            cache[token] = word   \n",
    "    return ' '.join(words)"
   ]
  },
  {
   "cell_type": "code",
   "execution_count": 15,
   "metadata": {},
   "outputs": [
    {
     "name": "stdout",
     "output_type": "stream",
     "text": [
      "CPU times: user 40.6 s, sys: 0 ns, total: 40.6 s\n",
      "Wall time: 40.6 s\n"
     ]
    }
   ],
   "source": [
    "%%time\n",
    "\n",
    "df['text'] = df['text'].apply(lemmatize)"
   ]
  },
  {
   "cell_type": "code",
   "execution_count": 16,
   "metadata": {},
   "outputs": [
    {
     "data": {
      "text/plain": [
       "['на работа быть полный пиддес : и так каждый закрытие месяц , я же свихнуться так d :',\n",
       " 'коллега сидеть рубиться в urban terror , а я из за долбать винд не мочь : (',\n",
       " 'at_user как говорят обещаной три год ждать . . . ( (',\n",
       " 'желать хороший полёт и удачный посадка , я быть очень сильно скучать ( url',\n",
       " 'обновить за какой то леший surf , теперь не работать простоплеер : (',\n",
       " 'котёнок вчера носик разбить , плакать и расстраиваться : (',\n",
       " 'at_user at_user at_user заслать , а то он опять затихариться , я прямо физически страдать , когда он долго молчать ! ( ( (',\n",
       " 'а вообще я не болеть я не выздоравливать : (',\n",
       " 'я микрофраза : ( учиться срать кирпич в режим нона стоп at_user',\n",
       " 'я хотеть с ты помириться , но сук я гордый и никогда это не сделать ! ( ( (',\n",
       " 'at_user at_user ты ебета какой у я фотка . я про твой молчать . и вообще ты хоть знаешь как тп то выглядеть . . .',\n",
       " 'блин начать сниться сон ( не когда почти не сниться ! а теперь можно сказать каждый день такой ! я это не нравиться ( ( ( ( ( ( ( ( ( (',\n",
       " 'at_user на твой место , я бы сначала телек купить бы (',\n",
       " 'at_user плохо бояться значит ( ( ты где ? в мск бгр ?',\n",
       " 'а я хотеть . . . электромобиль ( url',\n",
       " 'скоро увидеть твой зелёный глаз в последний раз ( ( (',\n",
       " 'вот это да , докатиться , по оранжевело патриот ! чо деяться ? : ( ( at_user hash бабка объединить hash кпрф и навальный ? url',\n",
       " 'ну уже ночииия : ( ( ( ( а я ничто не сделалаллалалалалалалвцмдэмппдпктцдкиицкп',\n",
       " 'at_user я очень рада , но ты имя разбить сердце : ( я они жалко епт я оч жалко влад а весь остальной нет',\n",
       " 'сегодня какой то нехороший день у я : ( телефон наушник не опознать , у блог как то умудриться шаблон сломать , да ещё',\n",
       " 'думать , на мыть век почта россия не подняться с дно ( ( (',\n",
       " 'я один напоминать дом 2 ? путин делать реалить шоу ? o_o',\n",
       " 'ебааааа сейчас модуль быть по региональный экономика ( (',\n",
       " 'at_user оооууа ты я анфолловить чувак ( (',\n",
       " 'вот так я встречать зима : ( ( url',\n",
       " 'at_user ну вот , туда медведь прикрепляться .',\n",
       " 'чорт . . . хотеть сходить в кино . . . прийтись любоваться фильм в уг качество на комп (',\n",
       " 'at_user так плохо я себя не чувствовать давно : (',\n",
       " 'как понизить температура ноут ? снаружи 30 , так что он постоянно раскалить : (',\n",
       " 'at_user думать упад с стул ? : (',\n",
       " 'at_user да нет , но условие быть более спартанский : (',\n",
       " 'хотеть мама сделать сюрприз , как всегда весь навернуться (',\n",
       " 'я блин сутки он ждать а он с друг общаться ! с который ежедневно видеться ! : (',\n",
       " 'at_user at_user так и думать : ( не судьба поход попасть к мастер',\n",
       " 'at_user у берег коста рик водиться вид рыба . а на берег выходить черепаха вес до килограмм . но я не видеть : ( url',\n",
       " 'at_user at_user at_user at_user самый смешной из лисичка тибетский . это не фотошоп url о_о',\n",
       " 'потерять креапление от борд . как так ! я же они не снимать (',\n",
       " 'at_user устать от семинар ; (',\n",
       " 'опять простыть . . . . ! ! ! ; ( весь гулять , катать , тусовать , а я ! ; ( ( ( что за невезение ! ! !',\n",
       " 'at_user один деньга пойти на красный мокасин , потом на ремень гермес , потом на приор , а потом уже можно умереть :']"
      ]
     },
     "execution_count": 16,
     "metadata": {},
     "output_type": "execute_result"
    }
   ],
   "source": [
    "df[\"text\"].tolist()[:40]"
   ]
  },
  {
   "cell_type": "code",
   "execution_count": null,
   "metadata": {},
   "outputs": [],
   "source": []
  },
  {
   "cell_type": "code",
   "execution_count": 17,
   "metadata": {},
   "outputs": [
    {
     "data": {
      "text/plain": [
       "((136100, 2), (45367, 2), (45367, 2))"
      ]
     },
     "execution_count": 17,
     "metadata": {},
     "output_type": "execute_result"
    }
   ],
   "source": [
    "df = df.drop(df[df['text'].map(str) == 'nan'].index)\n",
    "\n",
    "train, validate, test = np.split(df.sample(frac=1), [int(.6*len(df)), int(.8*len(df))])\n",
    "train.to_csv(\"../data/train_processed_data.csv\", index=False)\n",
    "validate.to_csv(\"../data/validate_processed_data.csv\", index=False)\n",
    "test.to_csv(\"../data/test_processed_data.csv\", index=False)\n",
    "\n",
    "train.shape, validate.shape, test.shape"
   ]
  },
  {
   "cell_type": "code",
   "execution_count": 18,
   "metadata": {},
   "outputs": [
    {
     "data": {
      "text/html": [
       "<div>\n",
       "<style scoped>\n",
       "    .dataframe tbody tr th:only-of-type {\n",
       "        vertical-align: middle;\n",
       "    }\n",
       "\n",
       "    .dataframe tbody tr th {\n",
       "        vertical-align: top;\n",
       "    }\n",
       "\n",
       "    .dataframe thead th {\n",
       "        text-align: right;\n",
       "    }\n",
       "</style>\n",
       "<table border=\"1\" class=\"dataframe\">\n",
       "  <thead>\n",
       "    <tr style=\"text-align: right;\">\n",
       "      <th></th>\n",
       "      <th>text</th>\n",
       "      <th>target</th>\n",
       "    </tr>\n",
       "  </thead>\n",
       "  <tbody>\n",
       "    <tr>\n",
       "      <th>103158</th>\n",
       "      <td>оставаться самый нужный и самый близкие ) весь...</td>\n",
       "      <td>1</td>\n",
       "    </tr>\n",
       "    <tr>\n",
       "      <th>108831</th>\n",
       "      <td>такой приятный чувство , когда ты знаешь , что...</td>\n",
       "      <td>1</td>\n",
       "    </tr>\n",
       "    <tr>\n",
       "      <th>60463</th>\n",
       "      <td>день начинаться с лень вообще ничто делать не ...</td>\n",
       "      <td>0</td>\n",
       "    </tr>\n",
       "    <tr>\n",
       "      <th>101340</th>\n",
       "      <td>at_user at_user ксюша поход вплотную там суп з...</td>\n",
       "      <td>1</td>\n",
       "    </tr>\n",
       "    <tr>\n",
       "      <th>1132</th>\n",
       "      <td>at_user с днём рождение at_user , творческий у...</td>\n",
       "      <td>1</td>\n",
       "    </tr>\n",
       "  </tbody>\n",
       "</table>\n",
       "</div>"
      ],
      "text/plain": [
       "                                                     text  target\n",
       "103158  оставаться самый нужный и самый близкие ) весь...       1\n",
       "108831  такой приятный чувство , когда ты знаешь , что...       1\n",
       "60463   день начинаться с лень вообще ничто делать не ...       0\n",
       "101340  at_user at_user ксюша поход вплотную там суп з...       1\n",
       "1132    at_user с днём рождение at_user , творческий у...       1"
      ]
     },
     "execution_count": 18,
     "metadata": {},
     "output_type": "execute_result"
    }
   ],
   "source": [
    "train.head()"
   ]
  },
  {
   "cell_type": "code",
   "execution_count": 19,
   "metadata": {},
   "outputs": [
    {
     "data": {
      "text/html": [
       "<div>\n",
       "<style scoped>\n",
       "    .dataframe tbody tr th:only-of-type {\n",
       "        vertical-align: middle;\n",
       "    }\n",
       "\n",
       "    .dataframe tbody tr th {\n",
       "        vertical-align: top;\n",
       "    }\n",
       "\n",
       "    .dataframe thead th {\n",
       "        text-align: right;\n",
       "    }\n",
       "</style>\n",
       "<table border=\"1\" class=\"dataframe\">\n",
       "  <thead>\n",
       "    <tr style=\"text-align: right;\">\n",
       "      <th></th>\n",
       "      <th>text</th>\n",
       "      <th>target</th>\n",
       "    </tr>\n",
       "  </thead>\n",
       "  <tbody>\n",
       "    <tr>\n",
       "      <th>52653</th>\n",
       "      <td>at_user at_user я старушка ( ( (</td>\n",
       "      <td>0</td>\n",
       "    </tr>\n",
       "    <tr>\n",
       "      <th>1339</th>\n",
       "      <td>at_user at_user the king . url надо обожать ко...</td>\n",
       "      <td>0</td>\n",
       "    </tr>\n",
       "    <tr>\n",
       "      <th>48292</th>\n",
       "      <td>ничто не разочаровывать сильный , чем дрянный ...</td>\n",
       "      <td>0</td>\n",
       "    </tr>\n",
       "    <tr>\n",
       "      <th>86267</th>\n",
       "      <td>hash happyvirthday вау классный фото ) ) url</td>\n",
       "      <td>1</td>\n",
       "    </tr>\n",
       "    <tr>\n",
       "      <th>47623</th>\n",
       "      <td>at_user повезти ! а у я и вклад там быть . и р...</td>\n",
       "      <td>0</td>\n",
       "    </tr>\n",
       "  </tbody>\n",
       "</table>\n",
       "</div>"
      ],
      "text/plain": [
       "                                                    text  target\n",
       "52653                   at_user at_user я старушка ( ( (       0\n",
       "1339   at_user at_user the king . url надо обожать ко...       0\n",
       "48292  ничто не разочаровывать сильный , чем дрянный ...       0\n",
       "86267       hash happyvirthday вау классный фото ) ) url       1\n",
       "47623  at_user повезти ! а у я и вклад там быть . и р...       0"
      ]
     },
     "execution_count": 19,
     "metadata": {},
     "output_type": "execute_result"
    }
   ],
   "source": [
    "validate.head()"
   ]
  },
  {
   "cell_type": "code",
   "execution_count": 20,
   "metadata": {},
   "outputs": [
    {
     "data": {
      "text/html": [
       "<div>\n",
       "<style scoped>\n",
       "    .dataframe tbody tr th:only-of-type {\n",
       "        vertical-align: middle;\n",
       "    }\n",
       "\n",
       "    .dataframe tbody tr th {\n",
       "        vertical-align: top;\n",
       "    }\n",
       "\n",
       "    .dataframe thead th {\n",
       "        text-align: right;\n",
       "    }\n",
       "</style>\n",
       "<table border=\"1\" class=\"dataframe\">\n",
       "  <thead>\n",
       "    <tr style=\"text-align: right;\">\n",
       "      <th></th>\n",
       "      <th>text</th>\n",
       "      <th>target</th>\n",
       "    </tr>\n",
       "  </thead>\n",
       "  <tbody>\n",
       "    <tr>\n",
       "      <th>16114</th>\n",
       "      <td>at_user привееть , хелена : ) ) ) мимими . . ....</td>\n",
       "      <td>1</td>\n",
       "    </tr>\n",
       "    <tr>\n",
       "      <th>26645</th>\n",
       "      <td>встать в , мама разбудить слово : ляля , встав...</td>\n",
       "      <td>1</td>\n",
       "    </tr>\n",
       "    <tr>\n",
       "      <th>6443</th>\n",
       "      <td>что там на версуса быть , есть инф ? поход жес...</td>\n",
       "      <td>1</td>\n",
       "    </tr>\n",
       "    <tr>\n",
       "      <th>17759</th>\n",
       "      <td>дима пригласить поиграть футбол , сейчас быть ...</td>\n",
       "      <td>1</td>\n",
       "    </tr>\n",
       "    <tr>\n",
       "      <th>73778</th>\n",
       "      <td>такой несчастный : ( микрорайон садовый url</td>\n",
       "      <td>0</td>\n",
       "    </tr>\n",
       "  </tbody>\n",
       "</table>\n",
       "</div>"
      ],
      "text/plain": [
       "                                                    text  target\n",
       "16114  at_user привееть , хелена : ) ) ) мимими . . ....       1\n",
       "26645  встать в , мама разбудить слово : ляля , встав...       1\n",
       "6443   что там на версуса быть , есть инф ? поход жес...       1\n",
       "17759  дима пригласить поиграть футбол , сейчас быть ...       1\n",
       "73778        такой несчастный : ( микрорайон садовый url       0"
      ]
     },
     "execution_count": 20,
     "metadata": {},
     "output_type": "execute_result"
    }
   ],
   "source": [
    "test.head()"
   ]
  },
  {
   "cell_type": "code",
   "execution_count": null,
   "metadata": {},
   "outputs": [],
   "source": []
  }
 ],
 "metadata": {
  "kernelspec": {
   "display_name": "Python 3",
   "language": "python",
   "name": "python3"
  },
  "language_info": {
   "codemirror_mode": {
    "name": "ipython",
    "version": 3
   },
   "file_extension": ".py",
   "mimetype": "text/x-python",
   "name": "python",
   "nbconvert_exporter": "python",
   "pygments_lexer": "ipython3",
   "version": "3.8.1"
  }
 },
 "nbformat": 4,
 "nbformat_minor": 4
}
